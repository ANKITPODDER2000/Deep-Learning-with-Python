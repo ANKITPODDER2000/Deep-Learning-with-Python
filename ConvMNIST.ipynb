{
 "cells": [
  {
   "cell_type": "code",
   "execution_count": 1,
   "metadata": {},
   "outputs": [
    {
     "name": "stdout",
     "output_type": "stream",
     "text": [
      "Version of tensorflow is :  2.1.0\n"
     ]
    }
   ],
   "source": [
    "import tensorflow as tf\n",
    "print(\"Version of tensorflow is : \",tf.__version__)"
   ]
  },
  {
   "cell_type": "code",
   "execution_count": 6,
   "metadata": {},
   "outputs": [],
   "source": [
    "import numpy as np\n",
    "import matplotlib.pyplot as plt\n",
    "%matplotlib inline\n",
    "import seaborn as sns\n",
    "sns.set_style(\"darkgrid\")"
   ]
  },
  {
   "cell_type": "code",
   "execution_count": 2,
   "metadata": {},
   "outputs": [],
   "source": [
    "from tensorflow.keras.datasets import mnist\n",
    "(train_data , train_label) , (test_data , test_label) = mnist.load_data()"
   ]
  },
  {
   "cell_type": "code",
   "execution_count": 3,
   "metadata": {},
   "outputs": [
    {
     "name": "stdout",
     "output_type": "stream",
     "text": [
      "Details of Training Data :\n",
      "==============================\n",
      "Shape of train_data :  (60000, 28, 28)\n",
      "Shape of train_label :  (60000,)\n",
      "Details of Testing Data :\n",
      "==============================\n",
      "Shape of test_data :  (10000, 28, 28)\n",
      "Shape of test_label :  (10000,)\n"
     ]
    }
   ],
   "source": [
    "print(\"Details of Training Data :\\n==============================\")\n",
    "print(\"Shape of train_data : \",train_data.shape)\n",
    "print(\"Shape of train_label : \",train_label.shape)\n",
    "print(\"Details of Testing Data :\\n==============================\")\n",
    "print(\"Shape of test_data : \",test_data.shape)\n",
    "print(\"Shape of test_label : \",test_label.shape)"
   ]
  },
  {
   "cell_type": "code",
   "execution_count": 4,
   "metadata": {},
   "outputs": [],
   "source": [
    "train_data = train_data.reshape((60000 , 28 , 28 , 1))\n",
    "train_data = train_data / 255.0\n",
    "test_data  = test_data.reshape((10000 , 28 , 28 , 1))\n",
    "test_data  = test_data / 255.0"
   ]
  },
  {
   "cell_type": "code",
   "execution_count": 9,
   "metadata": {},
   "outputs": [],
   "source": [
    "train_label = tf.keras.utils.to_categorical(train_label)\n",
    "test_label  = tf.keras.utils.to_categorical(test_label )"
   ]
  },
  {
   "cell_type": "code",
   "execution_count": 10,
   "metadata": {},
   "outputs": [
    {
     "name": "stdout",
     "output_type": "stream",
     "text": [
      "Details of Training Data :\n",
      "==============================\n",
      "Shape of train_data :  (60000, 28, 28, 1)\n",
      "Shape of train_label :  (60000, 10)\n",
      "Details of Testing Data :\n",
      "==============================\n",
      "Shape of test_data :  (10000, 28, 28, 1)\n",
      "Shape of test_label :  (10000, 10)\n"
     ]
    }
   ],
   "source": [
    "print(\"Details of Training Data :\\n==============================\")\n",
    "print(\"Shape of train_data : \",train_data.shape)\n",
    "print(\"Shape of train_label : \",train_label.shape)\n",
    "print(\"Details of Testing Data :\\n==============================\")\n",
    "print(\"Shape of test_data : \",test_data.shape)\n",
    "print(\"Shape of test_label : \",test_label.shape)"
   ]
  },
  {
   "cell_type": "code",
   "execution_count": 8,
   "metadata": {},
   "outputs": [
    {
     "data": {
      "text/plain": [
       "Text(0.5, 1.0, '5')"
      ]
     },
     "execution_count": 8,
     "metadata": {},
     "output_type": "execute_result"
    },
    {
     "data": {
      "image/png": "[encoded data removed]",
      "text/plain": [
       "<Figure size 432x288 with 1 Axes>"
      ]
     },
     "metadata": {
      "needs_background": "light"
     },
     "output_type": "display_data"
    }
   ],
   "source": [
    "plt.imshow(train_data[0].reshape((28,28)))\n",
    "plt.grid(False)\n",
    "plt.title(train_label[0])"
   ]
  },
  {
   "cell_type": "code",
   "execution_count": 13,
   "metadata": {},
   "outputs": [],
   "source": [
    "X_train = train_data[:50000 , : , : , :]\n",
    "X_test  = train_data[50000: , : , : , :]\n",
    "y_train = train_label[:50000 , :]\n",
    "y_test  = train_label[50000: , :]"
   ]
  },
  {
   "cell_type": "code",
   "execution_count": 14,
   "metadata": {},
   "outputs": [
    {
     "name": "stdout",
     "output_type": "stream",
     "text": [
      "Details of Training Data :\n",
      "==============================\n",
      "Shape of X_train :  (50000, 28, 28, 1)\n",
      "Shape of y_train :  (50000, 10)\n",
      "Details of Validation Data :\n",
      "==============================\n",
      "Shape of X_test :  (10000, 28, 28, 1)\n",
      "Shape of y_test :  (10000, 10)\n"
     ]
    }
   ],
   "source": [
    "print(\"Details of Training Data :\\n==============================\")\n",
    "print(\"Shape of X_train : \",X_train.shape)\n",
    "print(\"Shape of y_train : \",y_train.shape)\n",
    "print(\"Details of Validation Data :\\n==============================\")\n",
    "print(\"Shape of X_test : \",X_test.shape)\n",
    "print(\"Shape of y_test : \",y_test.shape)"
   ]
  },
  {
   "cell_type": "code",
   "execution_count": 11,
   "metadata": {},
   "outputs": [
    {
     "name": "stdout",
     "output_type": "stream",
     "text": [
      "Model: \"sequential\"\n",
      "_________________________________________________________________\n",
      "Layer (type)                 Output Shape              Param #   \n",
      "=================================================================\n",
      "conv2d (Conv2D)              (None, 26, 26, 64)        640       \n",
      "_________________________________________________________________\n",
      "max_pooling2d (MaxPooling2D) (None, 13, 13, 64)        0         \n",
      "_________________________________________________________________\n",
      "conv2d_1 (Conv2D)            (None, 11, 11, 64)        36928     \n",
      "_________________________________________________________________\n",
      "max_pooling2d_1 (MaxPooling2 (None, 5, 5, 64)          0         \n",
      "_________________________________________________________________\n",
      "conv2d_2 (Conv2D)            (None, 3, 3, 64)          36928     \n",
      "_________________________________________________________________\n",
      "max_pooling2d_2 (MaxPooling2 (None, 1, 1, 64)          0         \n",
      "_________________________________________________________________\n",
      "flatten (Flatten)            (None, 64)                0         \n",
      "_________________________________________________________________\n",
      "dense (Dense)                (None, 64)                4160      \n",
      "_________________________________________________________________\n",
      "dense_1 (Dense)              (None, 10)                650       \n",
      "=================================================================\n",
      "Total params: 79,306\n",
      "Trainable params: 79,306\n",
      "Non-trainable params: 0\n",
      "_________________________________________________________________\n"
     ]
    }
   ],
   "source": [
    "model = tf.keras.models.Sequential()\n",
    "model.add(tf.keras.layers.Conv2D(64 , (3,3) , activation = \"relu\" , input_shape = (28,28,1)))\n",
    "model.add(tf.keras.layers.MaxPool2D((2,2)))\n",
    "model.add(tf.keras.layers.Conv2D(64 , (3,3) , activation = \"relu\"))\n",
    "model.add(tf.keras.layers.MaxPool2D((2,2)))\n",
    "model.add(tf.keras.layers.Conv2D(64 , (3,3) , activation = \"relu\"))\n",
    "model.add(tf.keras.layers.MaxPool2D((2,2)))\n",
    "model.add(tf.keras.layers.Flatten())\n",
    "model.add(tf.keras.layers.Dense(64,activation = \"relu\"))\n",
    "model.add(tf.keras.layers.Dense(10 , activation = \"softmax\"))\n",
    "\n",
    "model.summary()"
   ]
  },
  {
   "cell_type": "code",
   "execution_count": 16,
   "metadata": {},
   "outputs": [],
   "source": [
    "model.compile(optimizer = \"rmsprop\" , loss = tf.keras.losses.categorical_crossentropy , metrics = ['acc'])"
   ]
  },
  {
   "cell_type": "code",
   "execution_count": 17,
   "metadata": {},
   "outputs": [
    {
     "name": "stdout",
     "output_type": "stream",
     "text": [
      "Train on 50000 samples, validate on 10000 samples\n",
      "Epoch 1/5\n",
      "50000/50000 [==============================] - 87s 2ms/sample - loss: 0.2569 - acc: 0.9205 - val_loss: 0.0918 - val_acc: 0.9731\n",
      "Epoch 2/5\n",
      "50000/50000 [==============================] - 87s 2ms/sample - loss: 0.0793 - acc: 0.9753 - val_loss: 0.0669 - val_acc: 0.9821\n",
      "Epoch 3/5\n",
      "50000/50000 [==============================] - 85s 2ms/sample - loss: 0.0556 - acc: 0.9826 - val_loss: 0.0526 - val_acc: 0.9849\n",
      "Epoch 4/5\n",
      "50000/50000 [==============================] - 85s 2ms/sample - loss: 0.0420 - acc: 0.9871 - val_loss: 0.0484 - val_acc: 0.9864\n",
      "Epoch 5/5\n",
      "50000/50000 [==============================] - 86s 2ms/sample - loss: 0.0338 - acc: 0.9896 - val_loss: 0.0439 - val_acc: 0.9887\n"
     ]
    }
   ],
   "source": [
    "his1 = model.fit(X_train , y_train , epochs = 5 , batch_size = 64 , validation_data = (X_test , y_test))"
   ]
  },
  {
   "cell_type": "code",
   "execution_count": 19,
   "metadata": {},
   "outputs": [
    {
     "name": "stdout",
     "output_type": "stream",
     "text": [
      "10000/10000 [==============================] - 5s 479us/sample - loss: 0.0444 - acc: 0.9883\n"
     ]
    }
   ],
   "source": [
    "acc = model.evaluate(test_data , test_label)"
   ]
  },
  {
   "cell_type": "code",
   "execution_count": 21,
   "metadata": {},
   "outputs": [
    {
     "name": "stdout",
     "output_type": "stream",
     "text": [
      "Acc for test data : 98.830%\n"
     ]
    }
   ],
   "source": [
    "print(\"Acc for test data : %.3f%%\"%(acc[1] * 100))"
   ]
  },
  {
   "cell_type": "code",
   "execution_count": null,
   "metadata": {},
   "outputs": [],
   "source": []
  },
  {
   "cell_type": "code",
   "execution_count": null,
   "metadata": {},
   "outputs": [],
   "source": []
  }
 ],
 "metadata": {
  "kernelspec": {
   "display_name": "Python 3",
   "language": "python",
   "name": "python3"
  },
  "language_info": {
   "codemirror_mode": {
    "name": "ipython",
    "version": 3
   },
   "file_extension": ".py",
   "mimetype": "text/x-python",
   "name": "python",
   "nbconvert_exporter": "python",
   "pygments_lexer": "ipython3",
   "version": "3.7.3"
  }
 },
 "nbformat": 4,
 "nbformat_minor": 2
}
