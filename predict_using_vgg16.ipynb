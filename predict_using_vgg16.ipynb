{
  "nbformat": 4,
  "nbformat_minor": 0,
  "metadata": {
    "colab": {
      "name": "predict_using_vgg16.ipynb",
      "provenance": [],
      "private_outputs": true,
      "collapsed_sections": []
    },
    "kernelspec": {
      "name": "python3",
      "display_name": "Python 3"
    },
    "accelerator": "GPU"
  },
  "cells": [
    {
      "cell_type": "code",
      "metadata": {
        "id": "hobX_m9Gu_UP",
        "colab_type": "code",
        "colab": {}
      },
      "source": [
        "!pip install tensorflow-gpu"
      ],
      "execution_count": null,
      "outputs": []
    },
    {
      "cell_type": "code",
      "metadata": {
        "id": "HM-zfif_ymPa",
        "colab_type": "code",
        "colab": {}
      },
      "source": [
        "import tensorflow as tf\n",
        "import numpy as np"
      ],
      "execution_count": null,
      "outputs": []
    },
    {
      "cell_type": "code",
      "metadata": {
        "id": "_-JofLOSy3VV",
        "colab_type": "code",
        "colab": {}
      },
      "source": [
        "model = tf.keras.applications.vgg16.VGG16(weights = \"imagenet\")"
      ],
      "execution_count": null,
      "outputs": []
    },
    {
      "cell_type": "code",
      "metadata": {
        "id": "uAt-b5Bw0LNi",
        "colab_type": "code",
        "colab": {}
      },
      "source": [
        "img = tf.keras.utils.get_file(\"img10.jpg\",\"https://images.theconversation.com/files/258709/original/file-20190213-181593-16pbmxa.jpg?ixlib=rb-1.1.0&q=45&auto=format&w=1200&h=1200.0&fit=crop\")\n",
        "img = tf.keras.preprocessing.image.load_img(img , target_size=(224 , 244))\n",
        "img\n",
        "\n",
        "img_ = tf.keras.preprocessing.image.img_to_array(img)\n",
        "print(img_.shape)\n",
        "img__ = img_[np.newaxis , :]\n",
        "print(img__.shape)\n",
        "\n",
        "import matplotlib.pyplot as plt\n",
        "%matplotlib inline\n",
        "plt.imshow((img__[0] / 255))\n",
        "\n",
        "img__ = tf.keras.applications.vgg16.preprocess_input(img__)\n",
        "pred = model.predict(img__)"
      ],
      "execution_count": null,
      "outputs": []
    },
    {
      "cell_type": "code",
      "metadata": {
        "id": "yQwNlvTQ1Ltp",
        "colab_type": "code",
        "colab": {}
      },
      "source": [
        "print('Predicted:', tf.keras.applications.vgg16.decode_predictions(pred, top=3)[0])"
      ],
      "execution_count": null,
      "outputs": []
    },
    {
      "cell_type": "code",
      "metadata": {
        "id": "VMRH4h2K1Z3c",
        "colab_type": "code",
        "colab": {}
      },
      "source": [
        ""
      ],
      "execution_count": null,
      "outputs": []
    }
  ]
}