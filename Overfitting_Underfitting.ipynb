{
 "cells": [
  {
   "cell_type": "code",
   "execution_count": 1,
   "metadata": {},
   "outputs": [
    {
     "name": "stdout",
     "output_type": "stream",
     "text": [
      "Version of tensorflow is :  2.1.0\n"
     ]
    }
   ],
   "source": [
    "import tensorflow as tf\n",
    "from tensorflow.keras.datasets import imdb\n",
    "print(\"Version of tensorflow is : \", tf.__version__)"
   ]
  },
  {
   "cell_type": "code",
   "execution_count": 12,
   "metadata": {},
   "outputs": [],
   "source": [
    "from tensorflow.keras.preprocessing.sequence import pad_sequences"
   ]
  },
  {
   "cell_type": "code",
   "execution_count": 2,
   "metadata": {},
   "outputs": [],
   "source": [
    "(train_data , train_label) , (test_data , test_label) = imdb.load_data(num_words = 10000)"
   ]
  },
  {
   "cell_type": "code",
   "execution_count": 4,
   "metadata": {},
   "outputs": [
    {
     "name": "stdout",
     "output_type": "stream",
     "text": [
      "Details of Training Data :\n",
      "==============================\n",
      "Shape of train_data :  (25000,)\n",
      "Shape of train_label :  (25000,)\n",
      "Details of Testing Data :\n",
      "==============================\n",
      "Shape of test_data :  (25000,)\n",
      "Shape of test_label :  (25000,)\n"
     ]
    }
   ],
   "source": [
    "print(\"Details of Training Data :\\n==============================\")\n",
    "print(\"Shape of train_data : \",train_data.shape)\n",
    "print(\"Shape of train_label : \",train_label.shape)\n",
    "print(\"Details of Testing Data :\\n==============================\")\n",
    "print(\"Shape of test_data : \",test_data.shape)\n",
    "print(\"Shape of test_label : \",test_label.shape)"
   ]
  },
  {
   "cell_type": "code",
   "execution_count": 10,
   "metadata": {},
   "outputs": [],
   "source": [
    "padding = \"post\"\n",
    "truncating = \"post\"\n",
    "embedding_dim = 32\n",
    "maxlen = 10000"
   ]
  },
  {
   "cell_type": "code",
   "execution_count": 13,
   "metadata": {},
   "outputs": [],
   "source": [
    "X = pad_sequencs(train_data , maxlen = maxlen , padding = padding , truncating = truncating)"
   ]
  },
  {
   "cell_type": "code",
   "execution_count": 14,
   "metadata": {},
   "outputs": [
    {
     "data": {
      "text/plain": [
       "(25000, 10000)"
      ]
     },
     "execution_count": 14,
     "metadata": {},
     "output_type": "execute_result"
    }
   ],
   "source": [
    "X.shape"
   ]
  },
  {
   "cell_type": "code",
   "execution_count": 15,
   "metadata": {},
   "outputs": [],
   "source": [
    "word_index = imdb.get_word_index()"
   ]
  },
  {
   "cell_type": "code",
   "execution_count": 17,
   "metadata": {},
   "outputs": [],
   "source": [
    "rev_word_index = dict()\n",
    "for k , v in word_index.items():\n",
    "    rev_word_index[v] = k"
   ]
  },
  {
   "cell_type": "code",
   "execution_count": 50,
   "metadata": {},
   "outputs": [],
   "source": [
    "def build_model(layer):\n",
    "    model = tf.keras.models.Sequential()\n",
    "    model.add(tf.keras.layers.Embedding(10000 , embedding_dim , input_length = maxlen))\n",
    "    model.add(tf.keras.layers.GlobalAveragePooling1D()),\n",
    "    for ly in layer:\n",
    "        model.add(tf.keras.layers.Dense(ly , activation = \"relu\"))\n",
    "    model.add(tf.keras.layers.Dense(1 , activation = \"sigmoid\"))\n",
    "    model.compile(optimizer = \"rmsprop\" , loss = tf.keras.losses.binary_crossentropy , metrics = ['acc'])\n",
    "    return model"
   ]
  },
  {
   "cell_type": "code",
   "execution_count": 51,
   "metadata": {},
   "outputs": [],
   "source": [
    "X_train = X[:20000 , :]\n",
    "y_train = train_label[:20000]\n",
    "X_test  = X[20000: , :]\n",
    "y_test  = train_label[20000 : ]"
   ]
  },
  {
   "cell_type": "code",
   "execution_count": 52,
   "metadata": {},
   "outputs": [
    {
     "name": "stdout",
     "output_type": "stream",
     "text": [
      "Details of Training Data :\n",
      "==============================\n",
      "Shape of X_train :  (20000, 10000)\n",
      "Shape of y_train :  (20000,)\n",
      "Details of Validation Data :\n",
      "==============================\n",
      "Shape of X_test :  (5000, 10000)\n",
      "Shape of y_test :  (5000,)\n"
     ]
    }
   ],
   "source": [
    "print(\"Details of Training Data :\\n==============================\")\n",
    "print(\"Shape of X_train : \",X_train.shape)\n",
    "print(\"Shape of y_train : \",y_train.shape)\n",
    "print(\"Details of Validation Data :\\n==============================\")\n",
    "print(\"Shape of X_test : \",X_test.shape)\n",
    "print(\"Shape of y_test : \",y_test.shape)"
   ]
  },
  {
   "cell_type": "code",
   "execution_count": 53,
   "metadata": {},
   "outputs": [],
   "source": [
    "model_dict = {}\n",
    "model_dict[\"model_512_512\"] = {}\n",
    "model_dict[\"model_512_512\"]['layers'] = [512 , 512]\n",
    "model_dict[\"model_256_256\"] = {}\n",
    "model_dict[\"model_256_256\"]['layers'] = [256 , 256]\n",
    "model_dict[\"model_256_128\"] = {}\n",
    "model_dict[\"model_256_128\"]['layers'] = [128 , 128]\n",
    "model_dict[\"model_64_64\"] = {}\n",
    "model_dict[\"model_64_64\"]['layers'] = [64 , 64]\n",
    "model_dict[\"model_4_4\"] = {}\n",
    "model_dict[\"model_4_4\"]['layers'] = [4 , 4]"
   ]
  },
  {
   "cell_type": "code",
   "execution_count": 54,
   "metadata": {},
   "outputs": [],
   "source": [
    "for key in model_dict:\n",
    "    model_dict[key]['model'] = build_model(model_dict[key]['layers'])"
   ]
  },
  {
   "cell_type": "code",
   "execution_count": 55,
   "metadata": {},
   "outputs": [],
   "source": [
    "for key in model_dict:\n",
    "    model_dict[key]['epochs']     = 20\n",
    "    model_dict[key]['batch_size'] = 512\n",
    "    model_dict[key]['history']    = None"
   ]
  },
  {
   "cell_type": "code",
   "execution_count": 56,
   "metadata": {},
   "outputs": [
    {
     "name": "stdout",
     "output_type": "stream",
     "text": [
      "Start of model : model_512_512\n",
      "Train on 20000 samples, validate on 5000 samples\n",
      "Epoch 1/20\n",
      "20000/20000 [==============================] - 113s 6ms/sample - loss: 0.6933 - acc: 0.5013 - val_loss: 0.6932 - val_acc: 0.4938\n",
      "Epoch 2/20\n",
      "20000/20000 [==============================] - 76s 4ms/sample - loss: 0.6932 - acc: 0.4987 - val_loss: 0.6932 - val_acc: 0.4938\n",
      "Epoch 3/20\n",
      "20000/20000 [==============================] - 76s 4ms/sample - loss: 0.6932 - acc: 0.5005 - val_loss: 0.6936 - val_acc: 0.4938\n",
      "Epoch 4/20\n",
      "20000/20000 [==============================] - 83s 4ms/sample - loss: 0.6932 - acc: 0.5010 - val_loss: 0.6933 - val_acc: 0.4938\n",
      "Epoch 5/20\n",
      "20000/20000 [==============================] - 80s 4ms/sample - loss: 0.6932 - acc: 0.5009 - val_loss: 0.6933 - val_acc: 0.4938\n",
      "Epoch 6/20\n",
      "20000/20000 [==============================] - 77s 4ms/sample - loss: 0.6932 - acc: 0.4963 - val_loss: 0.6933 - val_acc: 0.4938\n",
      "Epoch 7/20\n",
      "20000/20000 [==============================] - 77s 4ms/sample - loss: 0.6932 - acc: 0.4983 - val_loss: 0.6931 - val_acc: 0.5062\n",
      "Epoch 8/20\n",
      "20000/20000 [==============================] - 76s 4ms/sample - loss: 0.6932 - acc: 0.4968 - val_loss: 0.6933 - val_acc: 0.4938\n",
      "Epoch 9/20\n",
      "20000/20000 [==============================] - 77s 4ms/sample - loss: 0.6931 - acc: 0.4990 - val_loss: 0.6927 - val_acc: 0.5186\n",
      "Epoch 10/20\n",
      "20000/20000 [==============================] - 76s 4ms/sample - loss: 0.6922 - acc: 0.5246 - val_loss: 0.6924 - val_acc: 0.5098\n",
      "Epoch 11/20\n",
      "20000/20000 [==============================] - 80s 4ms/sample - loss: 0.6881 - acc: 0.5337 - val_loss: 0.6870 - val_acc: 0.5328\n",
      "Epoch 12/20\n",
      "20000/20000 [==============================] - 76s 4ms/sample - loss: 0.6768 - acc: 0.5932 - val_loss: 0.7203 - val_acc: 0.4938\n",
      "Epoch 13/20\n",
      "20000/20000 [==============================] - 76s 4ms/sample - loss: 0.6632 - acc: 0.5889 - val_loss: 0.6431 - val_acc: 0.6486\n",
      "Epoch 14/20\n",
      "20000/20000 [==============================] - 76s 4ms/sample - loss: 0.6478 - acc: 0.6109 - val_loss: 0.6248 - val_acc: 0.7044\n",
      "Epoch 15/20\n",
      "20000/20000 [==============================] - 76s 4ms/sample - loss: 0.6248 - acc: 0.6539 - val_loss: 0.5898 - val_acc: 0.7650\n",
      "Epoch 16/20\n",
      "20000/20000 [==============================] - 78s 4ms/sample - loss: 0.6093 - acc: 0.6490 - val_loss: 0.6711 - val_acc: 0.5420\n",
      "Epoch 17/20\n",
      "20000/20000 [==============================] - 81s 4ms/sample - loss: 0.5934 - acc: 0.6690 - val_loss: 0.5863 - val_acc: 0.6462\n",
      "Epoch 18/20\n",
      "20000/20000 [==============================] - 77s 4ms/sample - loss: 0.5830 - acc: 0.6852 - val_loss: 0.5283 - val_acc: 0.7852\n",
      "Epoch 19/20\n",
      "20000/20000 [==============================] - 76s 4ms/sample - loss: 0.5668 - acc: 0.6826 - val_loss: 0.7815 - val_acc: 0.5370\n",
      "Epoch 20/20\n",
      "20000/20000 [==============================] - 76s 4ms/sample - loss: 0.5571 - acc: 0.6944 - val_loss: 0.5310 - val_acc: 0.7066\n",
      "End of model : model_512_512\n",
      "Start of model : model_256_256\n",
      "Train on 20000 samples, validate on 5000 samples\n",
      "Epoch 1/20\n",
      "20000/20000 [==============================] - 89s 4ms/sample - loss: 0.6932 - acc: 0.5023 - val_loss: 0.6934 - val_acc: 0.4938\n",
      "Epoch 2/20\n",
      "20000/20000 [==============================] - 77s 4ms/sample - loss: 0.6932 - acc: 0.5005 - val_loss: 0.6932 - val_acc: 0.4938\n",
      "Epoch 3/20\n",
      "20000/20000 [==============================] - 75s 4ms/sample - loss: 0.6932 - acc: 0.4978 - val_loss: 0.6933 - val_acc: 0.4938\n",
      "Epoch 4/20\n",
      "20000/20000 [==============================] - 75s 4ms/sample - loss: 0.6932 - acc: 0.5019 - val_loss: 0.6931 - val_acc: 0.5062\n",
      "Epoch 5/20\n",
      "20000/20000 [==============================] - 76s 4ms/sample - loss: 0.6932 - acc: 0.4988 - val_loss: 0.6934 - val_acc: 0.4938\n",
      "Epoch 6/20\n",
      "20000/20000 [==============================] - 75s 4ms/sample - loss: 0.6932 - acc: 0.4994 - val_loss: 0.6935 - val_acc: 0.4938\n",
      "Epoch 7/20\n",
      "20000/20000 [==============================] - 76s 4ms/sample - loss: 0.6930 - acc: 0.5101 - val_loss: 0.6928 - val_acc: 0.4938\n",
      "Epoch 8/20\n",
      "20000/20000 [==============================] - 76s 4ms/sample - loss: 0.6925 - acc: 0.5124 - val_loss: 0.6918 - val_acc: 0.5098\n",
      "Epoch 9/20\n",
      "20000/20000 [==============================] - 76s 4ms/sample - loss: 0.6902 - acc: 0.5368 - val_loss: 0.6966 - val_acc: 0.4938\n",
      "Epoch 10/20\n",
      "20000/20000 [==============================] - 76s 4ms/sample - loss: 0.6853 - acc: 0.5648 - val_loss: 0.6841 - val_acc: 0.4944\n",
      "Epoch 11/20\n",
      "20000/20000 [==============================] - 76s 4ms/sample - loss: 0.6770 - acc: 0.5792 - val_loss: 0.6747 - val_acc: 0.5050\n",
      "Epoch 12/20\n",
      "20000/20000 [==============================] - 75s 4ms/sample - loss: 0.6612 - acc: 0.6180 - val_loss: 0.7069 - val_acc: 0.5234\n",
      "Epoch 13/20\n",
      "20000/20000 [==============================] - 75s 4ms/sample - loss: 0.6498 - acc: 0.6323 - val_loss: 0.6416 - val_acc: 0.5934\n",
      "Epoch 14/20\n",
      "20000/20000 [==============================] - 76s 4ms/sample - loss: 0.6302 - acc: 0.6528 - val_loss: 0.6217 - val_acc: 0.6174\n",
      "Epoch 15/20\n",
      "20000/20000 [==============================] - 76s 4ms/sample - loss: 0.6145 - acc: 0.6515 - val_loss: 0.5925 - val_acc: 0.6786\n",
      "Epoch 16/20\n",
      "20000/20000 [==============================] - 75s 4ms/sample - loss: 0.6012 - acc: 0.6587 - val_loss: 0.5646 - val_acc: 0.7794\n",
      "Epoch 17/20\n",
      "20000/20000 [==============================] - 75s 4ms/sample - loss: 0.5823 - acc: 0.6760 - val_loss: 0.6492 - val_acc: 0.5798\n",
      "Epoch 18/20\n",
      "20000/20000 [==============================] - 76s 4ms/sample - loss: 0.5761 - acc: 0.6744 - val_loss: 0.5963 - val_acc: 0.6228\n",
      "Epoch 19/20\n",
      "20000/20000 [==============================] - 75s 4ms/sample - loss: 0.5610 - acc: 0.6942 - val_loss: 0.5498 - val_acc: 0.7014\n",
      "Epoch 20/20\n",
      "20000/20000 [==============================] - 76s 4ms/sample - loss: 0.5389 - acc: 0.7233 - val_loss: 0.7265 - val_acc: 0.5646\n",
      "End of model : model_256_256\n",
      "Start of model : model_256_128\n",
      "Train on 20000 samples, validate on 5000 samples\n",
      "Epoch 1/20\n",
      "20000/20000 [==============================] - 82s 4ms/sample - loss: 0.6933 - acc: 0.4974 - val_loss: 0.6936 - val_acc: 0.4938\n",
      "Epoch 2/20\n",
      "20000/20000 [==============================] - 76s 4ms/sample - loss: 0.6932 - acc: 0.5035 - val_loss: 0.6935 - val_acc: 0.4938\n",
      "Epoch 3/20\n",
      "20000/20000 [==============================] - 75s 4ms/sample - loss: 0.6932 - acc: 0.5019 - val_loss: 0.6933 - val_acc: 0.4938\n",
      "Epoch 4/20\n",
      "20000/20000 [==============================] - 76s 4ms/sample - loss: 0.6931 - acc: 0.5046 - val_loss: 0.6930 - val_acc: 0.5062\n",
      "Epoch 5/20\n",
      "20000/20000 [==============================] - 77s 4ms/sample - loss: 0.6930 - acc: 0.5041 - val_loss: 0.6928 - val_acc: 0.6284\n",
      "Epoch 6/20\n",
      "20000/20000 [==============================] - 76s 4ms/sample - loss: 0.6926 - acc: 0.5183 - val_loss: 0.6924 - val_acc: 0.5062\n",
      "Epoch 7/20\n",
      "20000/20000 [==============================] - 75s 4ms/sample - loss: 0.6913 - acc: 0.5359 - val_loss: 0.6915 - val_acc: 0.4938\n",
      "Epoch 8/20\n",
      "20000/20000 [==============================] - 76s 4ms/sample - loss: 0.6877 - acc: 0.5504 - val_loss: 0.6995 - val_acc: 0.4938\n",
      "Epoch 9/20\n",
      "20000/20000 [==============================] - 75s 4ms/sample - loss: 0.6822 - acc: 0.5789 - val_loss: 0.6880 - val_acc: 0.5246\n",
      "Epoch 10/20\n",
      "20000/20000 [==============================] - 73s 4ms/sample - loss: 0.6734 - acc: 0.6145 - val_loss: 0.6719 - val_acc: 0.5138\n",
      "Epoch 11/20\n",
      "20000/20000 [==============================] - 72s 4ms/sample - loss: 0.6601 - acc: 0.6270 - val_loss: 0.6469 - val_acc: 0.7080\n",
      "Epoch 12/20\n",
      "20000/20000 [==============================] - 72s 4ms/sample - loss: 0.6442 - acc: 0.6564 - val_loss: 0.6262 - val_acc: 0.7438\n",
      "Epoch 13/20\n",
      "20000/20000 [==============================] - 72s 4ms/sample - loss: 0.6279 - acc: 0.6685 - val_loss: 0.6218 - val_acc: 0.6332\n",
      "Epoch 14/20\n",
      "20000/20000 [==============================] - 72s 4ms/sample - loss: 0.6098 - acc: 0.6669 - val_loss: 0.6358 - val_acc: 0.5832\n",
      "Epoch 15/20\n",
      "20000/20000 [==============================] - 72s 4ms/sample - loss: 0.5929 - acc: 0.6858 - val_loss: 0.6074 - val_acc: 0.6098\n",
      "Epoch 16/20\n",
      "20000/20000 [==============================] - 72s 4ms/sample - loss: 0.5773 - acc: 0.6981 - val_loss: 0.6983 - val_acc: 0.5570\n",
      "Epoch 17/20\n"
     ]
    },
    {
     "name": "stdout",
     "output_type": "stream",
     "text": [
      "20000/20000 [==============================] - 72s 4ms/sample - loss: 0.5652 - acc: 0.7117 - val_loss: 0.5306 - val_acc: 0.7954\n",
      "Epoch 18/20\n",
      "20000/20000 [==============================] - 73s 4ms/sample - loss: 0.5459 - acc: 0.7283 - val_loss: 0.6751 - val_acc: 0.5636\n",
      "Epoch 19/20\n",
      "20000/20000 [==============================] - 1532s 77ms/sample - loss: 0.5374 - acc: 0.7246 - val_loss: 0.7273 - val_acc: 0.5514\n",
      "Epoch 20/20\n",
      "20000/20000 [==============================] - 78s 4ms/sample - loss: 0.5284 - acc: 0.7347 - val_loss: 0.5962 - val_acc: 0.6194\n",
      "End of model : model_256_128\n",
      "Start of model : model_64_64\n",
      "Train on 20000 samples, validate on 5000 samples\n",
      "Epoch 1/20\n",
      "20000/20000 [==============================] - 93s 5ms/sample - loss: 0.6932 - acc: 0.5042 - val_loss: 0.6931 - val_acc: 0.5062\n",
      "Epoch 2/20\n",
      "20000/20000 [==============================] - 78s 4ms/sample - loss: 0.6932 - acc: 0.5001 - val_loss: 0.6931 - val_acc: 0.5134\n",
      "Epoch 3/20\n",
      "20000/20000 [==============================] - 81s 4ms/sample - loss: 0.6930 - acc: 0.5074 - val_loss: 0.6929 - val_acc: 0.5062\n",
      "Epoch 4/20\n",
      "20000/20000 [==============================] - 78s 4ms/sample - loss: 0.6930 - acc: 0.5020 - val_loss: 0.6931 - val_acc: 0.4938\n",
      "Epoch 5/20\n",
      "20000/20000 [==============================] - 78s 4ms/sample - loss: 0.6923 - acc: 0.5257 - val_loss: 0.6916 - val_acc: 0.5904\n",
      "Epoch 6/20\n",
      "20000/20000 [==============================] - 78s 4ms/sample - loss: 0.6908 - acc: 0.5332 - val_loss: 0.6900 - val_acc: 0.5120\n",
      "Epoch 7/20\n",
      "20000/20000 [==============================] - 78s 4ms/sample - loss: 0.6877 - acc: 0.5569 - val_loss: 0.6935 - val_acc: 0.5086\n",
      "Epoch 8/20\n",
      "20000/20000 [==============================] - 87s 4ms/sample - loss: 0.6822 - acc: 0.5825 - val_loss: 0.6806 - val_acc: 0.5350\n",
      "Epoch 9/20\n",
      "20000/20000 [==============================] - 87s 4ms/sample - loss: 0.6738 - acc: 0.6237 - val_loss: 0.6837 - val_acc: 0.4954\n",
      "Epoch 10/20\n",
      "20000/20000 [==============================] - 87s 4ms/sample - loss: 0.6626 - acc: 0.6276 - val_loss: 0.6771 - val_acc: 0.5032\n",
      "Epoch 11/20\n",
      "20000/20000 [==============================] - 86s 4ms/sample - loss: 0.6478 - acc: 0.6753 - val_loss: 0.6416 - val_acc: 0.6388\n",
      "Epoch 12/20\n",
      "20000/20000 [==============================] - 82s 4ms/sample - loss: 0.6354 - acc: 0.6632 - val_loss: 0.6839 - val_acc: 0.5120\n",
      "Epoch 13/20\n",
      "20000/20000 [==============================] - 90s 4ms/sample - loss: 0.6185 - acc: 0.6873 - val_loss: 0.5989 - val_acc: 0.7512\n",
      "Epoch 14/20\n",
      "20000/20000 [==============================] - 84s 4ms/sample - loss: 0.6031 - acc: 0.6880 - val_loss: 0.5863 - val_acc: 0.7044\n",
      "Epoch 15/20\n",
      "20000/20000 [==============================] - 83s 4ms/sample - loss: 0.5826 - acc: 0.7168 - val_loss: 0.6301 - val_acc: 0.5804\n",
      "Epoch 16/20\n",
      "20000/20000 [==============================] - 82s 4ms/sample - loss: 0.5747 - acc: 0.6942 - val_loss: 0.5460 - val_acc: 0.7942\n",
      "Epoch 17/20\n",
      "20000/20000 [==============================] - 82s 4ms/sample - loss: 0.5544 - acc: 0.7196 - val_loss: 0.5387 - val_acc: 0.7544\n",
      "Epoch 18/20\n",
      "20000/20000 [==============================] - 82s 4ms/sample - loss: 0.5423 - acc: 0.7356 - val_loss: 0.5600 - val_acc: 0.6644\n",
      "Epoch 19/20\n",
      "20000/20000 [==============================] - 83s 4ms/sample - loss: 0.5260 - acc: 0.7410 - val_loss: 0.6431 - val_acc: 0.5890\n",
      "Epoch 20/20\n",
      "20000/20000 [==============================] - 80s 4ms/sample - loss: 0.5196 - acc: 0.7380 - val_loss: 0.4879 - val_acc: 0.8082\n",
      "End of model : model_64_64\n",
      "Start of model : model_4_4\n",
      "Train on 20000 samples, validate on 5000 samples\n",
      "Epoch 1/20\n",
      "20000/20000 [==============================] - 101s 5ms/sample - loss: 0.6932 - acc: 0.5034 - val_loss: 0.6932 - val_acc: 0.4938\n",
      "Epoch 2/20\n",
      "20000/20000 [==============================] - 104s 5ms/sample - loss: 0.6932 - acc: 0.4999 - val_loss: 0.6932 - val_acc: 0.4938\n",
      "Epoch 3/20\n",
      "20000/20000 [==============================] - 108s 5ms/sample - loss: 0.6932 - acc: 0.5016 - val_loss: 0.6932 - val_acc: 0.4938\n",
      "Epoch 4/20\n",
      "20000/20000 [==============================] - 127s 6ms/sample - loss: 0.6931 - acc: 0.5016 - val_loss: 0.6932 - val_acc: 0.4938\n",
      "Epoch 5/20\n",
      "20000/20000 [==============================] - 92s 5ms/sample - loss: 0.6931 - acc: 0.4994 - val_loss: 0.6932 - val_acc: 0.4938\n",
      "Epoch 6/20\n",
      "20000/20000 [==============================] - 83s 4ms/sample - loss: 0.6931 - acc: 0.5023 - val_loss: 0.6932 - val_acc: 0.4938\n",
      "Epoch 7/20\n",
      "20000/20000 [==============================] - 77s 4ms/sample - loss: 0.6931 - acc: 0.5016 - val_loss: 0.6932 - val_acc: 0.4938\n",
      "Epoch 8/20\n",
      "20000/20000 [==============================] - 76s 4ms/sample - loss: 0.6931 - acc: 0.5016 - val_loss: 0.6931 - val_acc: 0.4938\n",
      "Epoch 9/20\n",
      "20000/20000 [==============================] - 83s 4ms/sample - loss: 0.6931 - acc: 0.5016 - val_loss: 0.6932 - val_acc: 0.4938\n",
      "Epoch 10/20\n",
      "20000/20000 [==============================] - 81s 4ms/sample - loss: 0.6931 - acc: 0.5016 - val_loss: 0.6932 - val_acc: 0.4938\n",
      "Epoch 11/20\n",
      "20000/20000 [==============================] - 80s 4ms/sample - loss: 0.6931 - acc: 0.5016 - val_loss: 0.6931 - val_acc: 0.4938\n",
      "Epoch 12/20\n",
      "20000/20000 [==============================] - 79s 4ms/sample - loss: 0.6930 - acc: 0.5146 - val_loss: 0.6931 - val_acc: 0.4938\n",
      "Epoch 13/20\n",
      "20000/20000 [==============================] - 80s 4ms/sample - loss: 0.6930 - acc: 0.5074 - val_loss: 0.6931 - val_acc: 0.4938\n",
      "Epoch 14/20\n",
      "20000/20000 [==============================] - 78s 4ms/sample - loss: 0.6930 - acc: 0.5016 - val_loss: 0.6931 - val_acc: 0.4938\n",
      "Epoch 15/20\n",
      "20000/20000 [==============================] - 76s 4ms/sample - loss: 0.6930 - acc: 0.5016 - val_loss: 0.6930 - val_acc: 0.4938\n",
      "Epoch 16/20\n",
      "20000/20000 [==============================] - 76s 4ms/sample - loss: 0.6929 - acc: 0.5096 - val_loss: 0.6930 - val_acc: 0.4938\n",
      "Epoch 17/20\n",
      "20000/20000 [==============================] - 78s 4ms/sample - loss: 0.6928 - acc: 0.5016 - val_loss: 0.6929 - val_acc: 0.4938\n",
      "Epoch 18/20\n",
      "20000/20000 [==============================] - 83s 4ms/sample - loss: 0.6927 - acc: 0.5016 - val_loss: 0.6928 - val_acc: 0.4938\n",
      "Epoch 19/20\n",
      "20000/20000 [==============================] - 83s 4ms/sample - loss: 0.6926 - acc: 0.5235 - val_loss: 0.6927 - val_acc: 0.4938\n",
      "Epoch 20/20\n",
      "20000/20000 [==============================] - 76s 4ms/sample - loss: 0.6924 - acc: 0.5151 - val_loss: 0.6927 - val_acc: 0.5374\n",
      "End of model : model_4_4\n"
     ]
    }
   ],
   "source": [
    "for key in model_dict:\n",
    "    print(\"Start of model : \" + key)\n",
    "    model_dict[key]['history'] = model_dict[key]['model'].fit(X_train , y_train ,\n",
    "                                                              epochs = model_dict[key]['epochs'] ,\n",
    "                                                              batch_size = model_dict[key]['batch_size'] ,\n",
    "                                                              validation_data = (X_test , y_test)\n",
    "                                                             )\n",
    "    print(\"End of model : \" + key)"
   ]
  },
  {
   "cell_type": "code",
   "execution_count": null,
   "metadata": {},
   "outputs": [],
   "source": []
  }
 ],
 "metadata": {
  "kernelspec": {
   "display_name": "Python 3",
   "language": "python",
   "name": "python3"
  },
  "language_info": {
   "codemirror_mode": {
    "name": "ipython",
    "version": 3
   },
   "file_extension": ".py",
   "mimetype": "text/x-python",
   "name": "python",
   "nbconvert_exporter": "python",
   "pygments_lexer": "ipython3",
   "version": "3.7.3"
  }
 },
 "nbformat": 4,
 "nbformat_minor": 2
}
