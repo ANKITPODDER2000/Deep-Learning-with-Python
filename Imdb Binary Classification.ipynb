{
 "cells": [
  {
   "cell_type": "code",
   "execution_count": 1,
   "metadata": {},
   "outputs": [],
   "source": [
    "import tensorflow as tf"
   ]
  },
  {
   "cell_type": "code",
   "execution_count": 2,
   "metadata": {},
   "outputs": [],
   "source": [
    "from tensorflow.keras.datasets import imdb"
   ]
  },
  {
   "cell_type": "code",
   "execution_count": 3,
   "metadata": {},
   "outputs": [],
   "source": [
    "from tensorflow.keras.preprocessing.text import Tokenizer\n",
    "from tensorflow.keras.preprocessing.sequence import pad_sequences"
   ]
  },
  {
   "cell_type": "code",
   "execution_count": 4,
   "metadata": {},
   "outputs": [],
   "source": [
    "(train_data , train_label) , (test_data , test_label) = imdb.load_data(num_words=10000)"
   ]
  },
  {
   "cell_type": "code",
   "execution_count": 5,
   "metadata": {},
   "outputs": [
    {
     "name": "stdout",
     "output_type": "stream",
     "text": [
      "train_data[0] :=  [1, 14, 22, 16, 43, 530, 973, 1622, 1385, 65, 458, 4468, 66, 3941, 4, 173, 36, 256, 5, 25, 100, 43, 838, 112, 50, 670, 2, 9, 35, 480, 284, 5, 150, 4, 172, 112, 167, 2, 336, 385, 39, 4, 172, 4536, 1111, 17, 546, 38, 13, 447, 4, 192, 50, 16, 6, 147, 2025, 19, 14, 22, 4, 1920, 4613, 469, 4, 22, 71, 87, 12, 16, 43, 530, 38, 76, 15, 13, 1247, 4, 22, 17, 515, 17, 12, 16, 626, 18, 2, 5, 62, 386, 12, 8, 316, 8, 106, 5, 4, 2223, 5244, 16, 480, 66, 3785, 33, 4, 130, 12, 16, 38, 619, 5, 25, 124, 51, 36, 135, 48, 25, 1415, 33, 6, 22, 12, 215, 28, 77, 52, 5, 14, 407, 16, 82, 2, 8, 4, 107, 117, 5952, 15, 256, 4, 2, 7, 3766, 5, 723, 36, 71, 43, 530, 476, 26, 400, 317, 46, 7, 4, 2, 1029, 13, 104, 88, 4, 381, 15, 297, 98, 32, 2071, 56, 26, 141, 6, 194, 7486, 18, 4, 226, 22, 21, 134, 476, 26, 480, 5, 144, 30, 5535, 18, 51, 36, 28, 224, 92, 25, 104, 4, 226, 65, 16, 38, 1334, 88, 12, 16, 283, 5, 16, 4472, 113, 103, 32, 15, 16, 5345, 19, 178, 32]\n",
      "\n",
      "\n",
      "train_label[0] :=  1\n"
     ]
    }
   ],
   "source": [
    "print(\"train_data[0] := \",train_data[0])\n",
    "print(\"\\n\\ntrain_label[0] := \",train_label[0])"
   ]
  },
  {
   "cell_type": "code",
   "execution_count": 6,
   "metadata": {},
   "outputs": [],
   "source": [
    "max_ = max([max(inp) for inp in train_data])"
   ]
  },
  {
   "cell_type": "code",
   "execution_count": 7,
   "metadata": {},
   "outputs": [
    {
     "name": "stdout",
     "output_type": "stream",
     "text": [
      "Max in train_data :=  9999\n"
     ]
    }
   ],
   "source": [
    "print(\"Max in train_data := \",max_)"
   ]
  },
  {
   "cell_type": "code",
   "execution_count": 8,
   "metadata": {},
   "outputs": [],
   "source": [
    "word_index = imdb.get_word_index()"
   ]
  },
  {
   "cell_type": "code",
   "execution_count": 9,
   "metadata": {},
   "outputs": [],
   "source": [
    "rev_word_index = {}\n",
    "for k,v in word_index.items():\n",
    "    rev_word_index[v] = k"
   ]
  },
  {
   "cell_type": "code",
   "execution_count": 10,
   "metadata": {},
   "outputs": [],
   "source": [
    "def list_to_str(L):\n",
    "    s = \"\"\n",
    "    for i in L:\n",
    "        s += rev_word_index[i] +\" \"\n",
    "    s = s[:-1] + \".\"\n",
    "    return s"
   ]
  },
  {
   "cell_type": "code",
   "execution_count": 11,
   "metadata": {},
   "outputs": [
    {
     "data": {
      "text/plain": [
       "'the effort still been that usually makes for of finished sucking ended and an because before if just though something know novel female i i slowly lot of above and with connect in of script their that out end his and i i.'"
      ]
     },
     "execution_count": 11,
     "metadata": {},
     "output_type": "execute_result"
    }
   ],
   "source": [
    "list_to_str(train_data[5])"
   ]
  },
  {
   "cell_type": "code",
   "execution_count": 12,
   "metadata": {},
   "outputs": [],
   "source": [
    "str1 = [\"I am Ankit.\",\"I am Ankita paul\"]\n",
    "tokenizer = Tokenizer(oov_token=\"<oov>\")"
   ]
  },
  {
   "cell_type": "code",
   "execution_count": 13,
   "metadata": {},
   "outputs": [],
   "source": [
    "tokenizer.fit_on_texts(str1)"
   ]
  },
  {
   "cell_type": "code",
   "execution_count": 14,
   "metadata": {},
   "outputs": [
    {
     "data": {
      "text/plain": [
       "[[2, 3, 1]]"
      ]
     },
     "execution_count": 14,
     "metadata": {},
     "output_type": "execute_result"
    }
   ],
   "source": [
    "tokenizer.texts_to_sequences([\"I am raja\"])"
   ]
  },
  {
   "cell_type": "code",
   "execution_count": 15,
   "metadata": {},
   "outputs": [],
   "source": [
    "Seq = tokenizer.texts_to_sequences(str1)"
   ]
  },
  {
   "cell_type": "code",
   "execution_count": 16,
   "metadata": {},
   "outputs": [
    {
     "data": {
      "text/plain": [
       "array([[2, 3, 4, 0, 0, 0, 0, 0, 0, 0],\n",
       "       [2, 3, 5, 6, 0, 0, 0, 0, 0, 0]])"
      ]
     },
     "execution_count": 16,
     "metadata": {},
     "output_type": "execute_result"
    }
   ],
   "source": [
    "pad_sequences(Seq,maxlen=10,padding=\"post\")"
   ]
  },
  {
   "cell_type": "code",
   "execution_count": 17,
   "metadata": {},
   "outputs": [],
   "source": [
    "m = 0\n",
    "for inp in train_data:\n",
    "    m = max(m , len(inp))"
   ]
  },
  {
   "cell_type": "code",
   "execution_count": 18,
   "metadata": {},
   "outputs": [
    {
     "name": "stdout",
     "output_type": "stream",
     "text": [
      "2494\n"
     ]
    }
   ],
   "source": [
    "print(m)"
   ]
  },
  {
   "cell_type": "code",
   "execution_count": 19,
   "metadata": {},
   "outputs": [],
   "source": [
    "truncating = \"post\"\n",
    "padding    = \"post\"\n",
    "maxlen     = 120"
   ]
  },
  {
   "cell_type": "code",
   "execution_count": 20,
   "metadata": {},
   "outputs": [],
   "source": [
    "X_train = pad_sequences(train_data,maxlen=maxlen,padding=padding,truncating=truncating)\n",
    "X_test = pad_sequences(test_data,maxlen=maxlen,padding=padding,truncating=truncating)"
   ]
  },
  {
   "cell_type": "code",
   "execution_count": 22,
   "metadata": {},
   "outputs": [],
   "source": [
    "import numpy as np\n",
    "y_train = np.array(train_label,dtype=np.float64)\n",
    "y_test  = np.array(test_label,dtype=np.float64)"
   ]
  },
  {
   "cell_type": "code",
   "execution_count": 23,
   "metadata": {},
   "outputs": [
    {
     "name": "stdout",
     "output_type": "stream",
     "text": [
      "(25000, 120)\n",
      "(25000, 120)\n",
      "(25000,)\n",
      "(25000,)\n"
     ]
    }
   ],
   "source": [
    "print(X_train.shape)\n",
    "print(X_test.shape )\n",
    "print(y_train.shape)\n",
    "print(y_test.shape)"
   ]
  },
  {
   "cell_type": "code",
   "execution_count": 24,
   "metadata": {},
   "outputs": [],
   "source": [
    "model1 = tf.keras.models.Sequential([\n",
    "    tf.keras.layers.Embedding(10000 , 32 , input_length = maxlen),\n",
    "    tf.keras.layers.GlobalAveragePooling1D(),\n",
    "    tf.keras.layers.Dense(16 , activation = \"relu\"),\n",
    "    tf.keras.layers.Dense(16 , activation = \"relu\"),\n",
    "    tf.keras.layers.Dense( 1 , activation = \"sigmoid\")\n",
    "])"
   ]
  },
  {
   "cell_type": "code",
   "execution_count": 25,
   "metadata": {},
   "outputs": [
    {
     "name": "stdout",
     "output_type": "stream",
     "text": [
      "Model: \"sequential\"\n",
      "_________________________________________________________________\n",
      "Layer (type)                 Output Shape              Param #   \n",
      "=================================================================\n",
      "embedding (Embedding)        (None, 120, 32)           320000    \n",
      "_________________________________________________________________\n",
      "global_average_pooling1d (Gl (None, 32)                0         \n",
      "_________________________________________________________________\n",
      "dense (Dense)                (None, 16)                528       \n",
      "_________________________________________________________________\n",
      "dense_1 (Dense)              (None, 16)                272       \n",
      "_________________________________________________________________\n",
      "dense_2 (Dense)              (None, 1)                 17        \n",
      "=================================================================\n",
      "Total params: 320,817\n",
      "Trainable params: 320,817\n",
      "Non-trainable params: 0\n",
      "_________________________________________________________________\n"
     ]
    }
   ],
   "source": [
    "model1.summary()"
   ]
  },
  {
   "cell_type": "code",
   "execution_count": 26,
   "metadata": {},
   "outputs": [],
   "source": [
    "model1.compile(optimizer=tf.keras.optimizers.RMSprop(lr = 0.001) ,\n",
    "               loss = tf.keras.losses.binary_crossentropy ,\n",
    "               metrics = ['acc'])"
   ]
  },
  {
   "cell_type": "code",
   "execution_count": 27,
   "metadata": {},
   "outputs": [
    {
     "name": "stdout",
     "output_type": "stream",
     "text": [
      "Train on 25000 samples, validate on 25000 samples\n",
      "Epoch 1/20\n",
      "25000/25000 [==============================] - 4s 148us/sample - loss: 0.6773 - acc: 0.6942 - val_loss: 0.6561 - val_acc: 0.7522\n",
      "Epoch 2/20\n",
      "25000/25000 [==============================] - 2s 83us/sample - loss: 0.6172 - acc: 0.7887 - val_loss: 0.5853 - val_acc: 0.7868\n",
      "Epoch 3/20\n",
      "25000/25000 [==============================] - 2s 71us/sample - loss: 0.5250 - acc: 0.8269 - val_loss: 0.4994 - val_acc: 0.8108\n",
      "Epoch 4/20\n",
      "25000/25000 [==============================] - 2s 72us/sample - loss: 0.4294 - acc: 0.8490 - val_loss: 0.4305 - val_acc: 0.8214\n",
      "Epoch 5/20\n",
      "25000/25000 [==============================] - 2s 70us/sample - loss: 0.3571 - acc: 0.8648 - val_loss: 0.3931 - val_acc: 0.8258\n",
      "Epoch 6/20\n",
      "25000/25000 [==============================] - 2s 65us/sample - loss: 0.3101 - acc: 0.8761 - val_loss: 0.3760 - val_acc: 0.8334\n",
      "Epoch 7/20\n",
      "25000/25000 [==============================] - 2s 72us/sample - loss: 0.2785 - acc: 0.8868 - val_loss: 0.3742 - val_acc: 0.8370\n",
      "Epoch 8/20\n",
      "25000/25000 [==============================] - 2s 69us/sample - loss: 0.2568 - acc: 0.8958 - val_loss: 0.3752 - val_acc: 0.8369\n",
      "Epoch 9/20\n",
      "25000/25000 [==============================] - 2s 68us/sample - loss: 0.2387 - acc: 0.9060 - val_loss: 0.3928 - val_acc: 0.8280\n",
      "Epoch 10/20\n",
      "25000/25000 [==============================] - 2s 66us/sample - loss: 0.2239 - acc: 0.9136 - val_loss: 0.4002 - val_acc: 0.8280\n",
      "Epoch 11/20\n",
      "25000/25000 [==============================] - 2s 69us/sample - loss: 0.2116 - acc: 0.9201 - val_loss: 0.4043 - val_acc: 0.8302\n",
      "Epoch 12/20\n",
      "25000/25000 [==============================] - 2s 70us/sample - loss: 0.2009 - acc: 0.9264 - val_loss: 0.4108 - val_acc: 0.8314\n",
      "Epoch 13/20\n",
      "25000/25000 [==============================] - 2s 66us/sample - loss: 0.1910 - acc: 0.9304 - val_loss: 0.4311 - val_acc: 0.8254\n",
      "Epoch 14/20\n",
      "25000/25000 [==============================] - 2s 64us/sample - loss: 0.1814 - acc: 0.9358 - val_loss: 0.4373 - val_acc: 0.8273\n",
      "Epoch 15/20\n",
      "25000/25000 [==============================] - 2s 65us/sample - loss: 0.1737 - acc: 0.9394 - val_loss: 0.4515 - val_acc: 0.8250\n",
      "Epoch 16/20\n",
      "25000/25000 [==============================] - 2s 65us/sample - loss: 0.1665 - acc: 0.9422 - val_loss: 0.4731 - val_acc: 0.8198\n",
      "Epoch 17/20\n",
      "25000/25000 [==============================] - 2s 64us/sample - loss: 0.1590 - acc: 0.9464 - val_loss: 0.4829 - val_acc: 0.8197\n",
      "Epoch 18/20\n",
      "25000/25000 [==============================] - 2s 64us/sample - loss: 0.1519 - acc: 0.9484 - val_loss: 0.5116 - val_acc: 0.8128\n",
      "Epoch 19/20\n",
      "25000/25000 [==============================] - 2s 65us/sample - loss: 0.1474 - acc: 0.9499 - val_loss: 0.5145 - val_acc: 0.8159\n",
      "Epoch 20/20\n",
      "25000/25000 [==============================] - 2s 65us/sample - loss: 0.1404 - acc: 0.9527 - val_loss: 0.5309 - val_acc: 0.8141\n"
     ]
    }
   ],
   "source": [
    "his1 = model1.fit(X_train,y_train,epochs=20,batch_size=512,validation_data=(X_test,y_test))"
   ]
  },
  {
   "cell_type": "code",
   "execution_count": 32,
   "metadata": {},
   "outputs": [],
   "source": [
    "import matplotlib.pyplot as plt\n",
    "import seaborn as sns\n",
    "%matplotlib inline"
   ]
  },
  {
   "cell_type": "code",
   "execution_count": 35,
   "metadata": {},
   "outputs": [],
   "source": [
    "sns.set_style(\"darkgrid\")"
   ]
  },
  {
   "cell_type": "code",
   "execution_count": 31,
   "metadata": {},
   "outputs": [
    {
     "data": {
      "text/plain": [
       "<matplotlib.legend.Legend at 0x27cacceb4a8>"
      ]
     },
     "execution_count": 31,
     "metadata": {},
     "output_type": "execute_result"
    },
    {
     "data": {
      "image/png": "[encoded data removed]",
      "text/plain": [
       "<Figure size 1008x432 with 2 Axes>"
      ]
     },
     "metadata": {
      "needs_background": "light"
     },
     "output_type": "display_data"
    }
   ],
   "source": [
    "fig , ax = plt.subplots(1,2,figsize=(14,6))\n",
    "ax[0].plot(his1.history['acc'],'r',label=\"Train data\")\n",
    "ax[0].plot(his1.history['val_acc'],'o',label=\"Validation data\")\n",
    "ax[0].set_title(\"Accurecy\")\n",
    "ax[0].legend()\n",
    "\n",
    "ax[1].plot(his1.history['loss'],'r',label=\"Train data\")\n",
    "ax[1].plot(his1.history['loss'],'o',label=\"Validation data\")\n",
    "ax[1].set_title(\"Accurecy\")\n",
    "ax[1].legend()"
   ]
  },
  {
   "cell_type": "code",
   "execution_count": null,
   "metadata": {},
   "outputs": [],
   "source": []
  }
 ],
 "metadata": {
  "kernelspec": {
   "display_name": "Python 3",
   "language": "python",
   "name": "python3"
  },
  "language_info": {
   "codemirror_mode": {
    "name": "ipython",
    "version": 3
   },
   "file_extension": ".py",
   "mimetype": "text/x-python",
   "name": "python",
   "nbconvert_exporter": "python",
   "pygments_lexer": "ipython3",
   "version": "3.7.3"
  }
 },
 "nbformat": 4,
 "nbformat_minor": 2
}
