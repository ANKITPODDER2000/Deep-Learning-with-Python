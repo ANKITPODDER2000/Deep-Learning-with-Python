{
  "nbformat": 4,
  "nbformat_minor": 0,
  "metadata": {
    "colab": {
      "name": "predict_using_vgg16.ipynb",
      "provenance": [],
      "private_outputs": true,
      "collapsed_sections": []
    },
    "kernelspec": {
      "name": "python3",
      "display_name": "Python 3"
    },
    "accelerator": "GPU"
  },
  "cells": [
    {
      "cell_type": "code",
      "metadata": {
        "id": "hobX_m9Gu_UP",
        "colab_type": "code",
        "colab": {}
      },
      "source": [
        "!pip install tensorflow-gpu"
      ],
      "execution_count": null,
      "outputs": []
    },
    {
      "cell_type": "code",
      "metadata": {
        "id": "HM-zfif_ymPa",
        "colab_type": "code",
        "colab": {}
      },
      "source": [
        "import tensorflow as tf\n",
        "import numpy as np"
      ],
      "execution_count": null,
      "outputs": []
    },
    {
      "cell_type": "code",
      "metadata": {
        "id": "_-JofLOSy3VV",
        "colab_type": "code",
        "colab": {}
      },
      "source": [
        "model = tf.keras.applications.vgg16.VGG16(weights = \"imagenet\")"
      ],
      "execution_count": null,
      "outputs": []
    },
    {
      "cell_type": "code",
      "metadata": {
        "id": "uAt-b5Bw0LNi",
        "colab_type": "code",
        "colab": {}
      },
      "source": [
        "img = tf.keras.utils.get_file(\"img10.jpg\",\"https://images.theconversation.com/files/258709/original/file-20190213-181593-16pbmxa.jpg?ixlib=rb-1.1.0&q=45&auto=format&w=1200&h=1200.0&fit=crop\")\n",
        "img = tf.keras.preprocessing.image.load_img(img , target_size=(224 , 244))\n",
        "img\n",
        "\n",
        "img_ = tf.keras.preprocessing.image.img_to_array(img)\n",
        "print(img_.shape)\n",
        "img__ = img_[np.newaxis , :]\n",
        "print(img__.shape)\n",
        "\n",
        "import matplotlib.pyplot as plt\n",
        "%matplotlib inline\n",
        "plt.imshow((img__[0] / 255))\n",
        "\n",
        "img__ = tf.keras.applications.vgg16.preprocess_input(img__)\n",
        "pred = model.predict(img__)"
      ],
      "execution_count": null,
      "outputs": []
    },
    {
      "cell_type": "code",
      "metadata": {
        "id": "yQwNlvTQ1Ltp",
        "colab_type": "code",
        "colab": {}
      },
      "source": [
        "print('Predicted:', tf.keras.applications.vgg16.decode_predictions(pred, top=3)[0])"
      ],
      "execution_count": null,
      "outputs": []
    },
    {
      "cell_type": "code",
      "metadata": {
        "id": "VMRH4h2K1Z3c",
        "colab_type": "code",
        "colab": {}
      },
      "source": [
        "import time as t"
      ],
      "execution_count": null,
      "outputs": []
    },
    {
      "cell_type": "code",
      "metadata": {
        "id": "aK2M2rkC5b8O",
        "colab_type": "code",
        "colab": {}
      },
      "source": [
        "from random import randint\n",
        "def prediction(url , ax , exten = \".jpg\"):\n",
        "  try:\n",
        "    name = \"img\"+str(randint(1,100000))+exten\n",
        "    img_path = tf.keras.utils.get_file(name , url)\n",
        "    img      = tf.keras.preprocessing.image.load_img(img_path , target_size = (224 , 224))\n",
        "    img      = tf.keras.preprocessing.image.img_to_array(img)\n",
        "    img_copy = img\n",
        "    img      = img[np.newaxis , ]\n",
        "    img      = tf.keras.applications.vgg16.preprocess_input(img)\n",
        "    pred     = model.predict(img)\n",
        "    p        = tf.keras.applications.vgg16.decode_predictions(pred, top=1)[0][0][1]\n",
        "    print(p)\n",
        "    ax.imshow(img_copy / 255)\n",
        "    ax.set_title(p)\n",
        "  except:\n",
        "    pass"
      ],
      "execution_count": null,
      "outputs": []
    },
    {
      "cell_type": "code",
      "metadata": {
        "id": "jJHiOwE-5eu8",
        "colab_type": "code",
        "colab": {}
      },
      "source": [
        "prediction(\"https://images.theconversation.com/files/258709/original/file-20190213-181593-16pbmxa.jpg?ixlib=rb-1.1.0&q=45&auto=format&w=1200&h=1200.0&fit=crop\" , \".jpg\")"
      ],
      "execution_count": null,
      "outputs": []
    },
    {
      "cell_type": "code",
      "metadata": {
        "id": "LYmexHb1_ZvN",
        "colab_type": "code",
        "colab": {}
      },
      "source": [
        "prediction(\"https://ichef.bbci.co.uk/news/976/cpsprodpb/12A9B/production/_111434467_gettyimages-1143489763.jpg\" , \".jpg\")"
      ],
      "execution_count": null,
      "outputs": []
    },
    {
      "cell_type": "code",
      "metadata": {
        "id": "sjXYgsWaAOGO",
        "colab_type": "code",
        "colab": {}
      },
      "source": [
        "from os import system\n",
        "import seaborn as sns\n",
        "img = [\n",
        "       \"https://ichef.bbci.co.uk/news/976/cpsprodpb/12A9B/production/_111434467_gettyimages-1143489763.jpg\",\n",
        "       \"https://lh3.googleusercontent.com/proxy/fhCu9V-lRLudI42Fp7ZVEy8PzhXF5q_CwZsJz8DC_eFFHBr2q1orbB5qnCOcWO966KiAr2CazYZzf-mpaPp4HJG2Jx0ur52qFMfnkGeholFObpuyAOVU\",\n",
        "       \"https://post.medicalnewstoday.com/wp-content/uploads/sites/3/2020/02/322868_1100-800x825.jpg\",\n",
        "       \"https://media.nature.com/lw800/magazine-assets/d41586-020-01430-5/d41586-020-01430-5_17977552.jpg\"\n",
        "]\n",
        "\n",
        "_ , ax = plt.subplots(1,4,figsize = (22 , 6))\n",
        "for i in range(4):\n",
        "  prediction(img[i] , ax[i])\n",
        "system('cls')\n",
        "system('clear')"
      ],
      "execution_count": null,
      "outputs": []
    },
    {
      "cell_type": "code",
      "metadata": {
        "id": "cG24-ZeeBZDq",
        "colab_type": "code",
        "colab": {}
      },
      "source": [
        ""
      ],
      "execution_count": null,
      "outputs": []
    }
  ]
}