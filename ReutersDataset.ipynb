{
 "cells": [
  {
   "cell_type": "code",
   "execution_count": 1,
   "metadata": {},
   "outputs": [
    {
     "name": "stdout",
     "output_type": "stream",
     "text": [
      "Version of tensorflow is :=  2.1.0\n"
     ]
    }
   ],
   "source": [
    "import tensorflow as tf\n",
    "from tensorflow.keras.datasets import reuters\n",
    "print(\"Version of tensorflow is := \",tf.__version__)"
   ]
  },
  {
   "cell_type": "code",
   "execution_count": 22,
   "metadata": {},
   "outputs": [],
   "source": [
    "import numpy as np\n",
    "from tensorflow.keras.preprocessing.sequence import pad_sequences"
   ]
  },
  {
   "cell_type": "code",
   "execution_count": 57,
   "metadata": {},
   "outputs": [],
   "source": [
    "import matplotlib.pyplot as plt\n",
    "import seaborn as sns\n",
    "%matplotlib inline"
   ]
  },
  {
   "cell_type": "code",
   "execution_count": 39,
   "metadata": {},
   "outputs": [],
   "source": [
    "sns.set_style(\"darkgrid\")"
   ]
  },
  {
   "cell_type": "code",
   "execution_count": 2,
   "metadata": {},
   "outputs": [
    {
     "name": "stdout",
     "output_type": "stream",
     "text": [
      "Downloading data from https://storage.googleapis.com/tensorflow/tf-keras-datasets/reuters.npz\n",
      "2113536/2110848 [==============================] - 5s 2us/step\n"
     ]
    }
   ],
   "source": [
    "(train_data , train_label) , (test_data , test_label) = reuters.load_data(num_words=10000)"
   ]
  },
  {
   "cell_type": "code",
   "execution_count": 3,
   "metadata": {},
   "outputs": [
    {
     "name": "stdout",
     "output_type": "stream",
     "text": [
      "Downloading data from https://storage.googleapis.com/tensorflow/tf-keras-datasets/reuters_word_index.json\n",
      "557056/550378 [==============================] - 2s 4us/step\n"
     ]
    }
   ],
   "source": [
    "word_index = reuters.get_word_index()"
   ]
  },
  {
   "cell_type": "code",
   "execution_count": 4,
   "metadata": {},
   "outputs": [
    {
     "name": "stdout",
     "output_type": "stream",
     "text": [
      "Len of train_data :=  8982\n",
      "Len of test_data :=  2246\n"
     ]
    }
   ],
   "source": [
    "print(\"Len of train_data := \",len(train_data))\n",
    "print(\"Len of test_data := \",len(test_data))"
   ]
  },
  {
   "cell_type": "code",
   "execution_count": 6,
   "metadata": {},
   "outputs": [],
   "source": [
    "rev_word_index = {}\n",
    "for k,v in word_index.items():\n",
    "    rev_word_index[v] = k"
   ]
  },
  {
   "cell_type": "code",
   "execution_count": 7,
   "metadata": {},
   "outputs": [
    {
     "data": {
      "text/plain": [
       "'oversold'"
      ]
     },
     "execution_count": 7,
     "metadata": {},
     "output_type": "execute_result"
    }
   ],
   "source": [
    "rev_word_index[9999]"
   ]
  },
  {
   "cell_type": "code",
   "execution_count": 8,
   "metadata": {},
   "outputs": [
    {
     "data": {
      "text/plain": [
       "9999"
      ]
     },
     "execution_count": 8,
     "metadata": {},
     "output_type": "execute_result"
    }
   ],
   "source": [
    "word_index['oversold']"
   ]
  },
  {
   "cell_type": "code",
   "execution_count": 9,
   "metadata": {},
   "outputs": [],
   "source": [
    "def seq_to_str(Sequence):\n",
    "    str_ = \"\"\n",
    "    for seq in Sequence:\n",
    "        str_ += rev_word_index[seq] + \" \"\n",
    "    str_ = str_[:-1]+\".\"\n",
    "    return str_"
   ]
  },
  {
   "cell_type": "code",
   "execution_count": 12,
   "metadata": {},
   "outputs": [
    {
     "name": "stdout",
     "output_type": "stream",
     "text": [
      "11th string of train data :=  the federal gain only growth lt they meeting year reuter company did year an they ground edouard reuter company 608 653 1987 had autumn objectives reuter had profits 653 pct dlrs.\n"
     ]
    }
   ],
   "source": [
    "print(\"11th string of train data := \",seq_to_str(train_data[10]))"
   ]
  },
  {
   "cell_type": "code",
   "execution_count": 14,
   "metadata": {},
   "outputs": [],
   "source": [
    "y_train = tf.keras.utils.to_categorical(train_label)\n",
    "y_test  = tf.keras.utils.to_categorical(test_label)"
   ]
  },
  {
   "cell_type": "code",
   "execution_count": 15,
   "metadata": {},
   "outputs": [
    {
     "data": {
      "text/plain": [
       "array([0., 0., 0., 0., 1., 0., 0., 0., 0., 0., 0., 0., 0., 0., 0., 0., 0.,\n",
       "       0., 0., 0., 0., 0., 0., 0., 0., 0., 0., 0., 0., 0., 0., 0., 0., 0.,\n",
       "       0., 0., 0., 0., 0., 0., 0., 0., 0., 0., 0., 0.], dtype=float32)"
      ]
     },
     "execution_count": 15,
     "metadata": {},
     "output_type": "execute_result"
    }
   ],
   "source": [
    "y_train[3]"
   ]
  },
  {
   "cell_type": "code",
   "execution_count": 20,
   "metadata": {},
   "outputs": [
    {
     "name": "stdout",
     "output_type": "stream",
     "text": [
      "Starting class :=  0\n",
      "Ending class :=  45\n",
      "Total class :=  46\n"
     ]
    }
   ],
   "source": [
    "print(\"Starting class := \",min(train_label))\n",
    "print(\"Ending class := \",  max(train_label))\n",
    "print(\"Total class := \",max(train_label) - min(train_label) + 1)"
   ]
  },
  {
   "cell_type": "code",
   "execution_count": 28,
   "metadata": {},
   "outputs": [],
   "source": [
    "maxlen     = 10000\n",
    "padding    = \"post\"\n",
    "truncating = \"post\"\n",
    "emb_dim    = 32\n",
    "num_words  = 10000"
   ]
  },
  {
   "cell_type": "code",
   "execution_count": 26,
   "metadata": {},
   "outputs": [],
   "source": [
    "x_train = pad_sequences(train_data,maxlen=maxlen,padding=padding,truncating=truncating)\n",
    "x_test  = pad_sequences(test_data  ,maxlen=maxlen,padding=padding,truncating=truncating)"
   ]
  },
  {
   "cell_type": "code",
   "execution_count": 27,
   "metadata": {},
   "outputs": [
    {
     "name": "stdout",
     "output_type": "stream",
     "text": [
      "Shape of x_train :=  (8982, 10000)\n",
      "Shape of y_train :=  (8982, 46)\n",
      "Shape of x_test  :=  (2246, 10000)\n",
      "Shape of y_test  :=  (2246, 46)\n"
     ]
    }
   ],
   "source": [
    "print(\"Shape of x_train := \",x_train.shape)\n",
    "print(\"Shape of y_train := \",y_train.shape)\n",
    "print(\"Shape of x_test  := \",x_test.shape)\n",
    "print(\"Shape of y_test  := \",y_test.shape)"
   ]
  },
  {
   "cell_type": "code",
   "execution_count": 34,
   "metadata": {},
   "outputs": [],
   "source": [
    "model1 = tf.keras.models.Sequential([\n",
    "    tf.keras.layers.Embedding(num_words,emb_dim,input_length = maxlen),\n",
    "    tf.keras.layers.GlobalAveragePooling1D(),\n",
    "    tf.keras.layers.Dense(64,activation=\"relu\"),\n",
    "    tf.keras.layers.Dense(64,activation=\"relu\"),\n",
    "    tf.keras.layers.Dense(46,activation=\"softmax\"),\n",
    "])"
   ]
  },
  {
   "cell_type": "code",
   "execution_count": 35,
   "metadata": {},
   "outputs": [
    {
     "name": "stdout",
     "output_type": "stream",
     "text": [
      "Model: \"sequential_1\"\n",
      "_________________________________________________________________\n",
      "Layer (type)                 Output Shape              Param #   \n",
      "=================================================================\n",
      "embedding_1 (Embedding)      (None, 10000, 32)         320000    \n",
      "_________________________________________________________________\n",
      "global_average_pooling1d_1 ( (None, 32)                0         \n",
      "_________________________________________________________________\n",
      "dense_3 (Dense)              (None, 64)                2112      \n",
      "_________________________________________________________________\n",
      "dense_4 (Dense)              (None, 64)                4160      \n",
      "_________________________________________________________________\n",
      "dense_5 (Dense)              (None, 46)                2990      \n",
      "=================================================================\n",
      "Total params: 329,262\n",
      "Trainable params: 329,262\n",
      "Non-trainable params: 0\n",
      "_________________________________________________________________\n"
     ]
    }
   ],
   "source": [
    "model1.summary()"
   ]
  },
  {
   "cell_type": "code",
   "execution_count": 36,
   "metadata": {},
   "outputs": [],
   "source": [
    "model1.compile(optimizer=tf.keras.optimizers.RMSprop(lr=0.001) ,\n",
    "               loss = tf.keras.losses.categorical_crossentropy ,\n",
    "               metrics = ['acc'])"
   ]
  },
  {
   "cell_type": "code",
   "execution_count": 37,
   "metadata": {},
   "outputs": [
    {
     "name": "stdout",
     "output_type": "stream",
     "text": [
      "Train on 8982 samples, validate on 2246 samples\n",
      "Epoch 1/20\n",
      "8982/8982 [==============================] - 95s 11ms/sample - loss: 3.6692 - acc: 0.3330 - val_loss: 3.4268 - val_acc: 0.3620\n",
      "Epoch 2/20\n",
      "8982/8982 [==============================] - 56s 6ms/sample - loss: 3.1320 - acc: 0.3517 - val_loss: 2.7802 - val_acc: 0.3620\n",
      "Epoch 3/20\n",
      "8982/8982 [==============================] - 51s 6ms/sample - loss: 2.6054 - acc: 0.3517 - val_loss: 2.4871 - val_acc: 0.3620\n",
      "Epoch 4/20\n",
      "8982/8982 [==============================] - 51s 6ms/sample - loss: 2.4485 - acc: 0.3517 - val_loss: 2.4289 - val_acc: 0.3620\n",
      "Epoch 5/20\n",
      "8982/8982 [==============================] - 71s 8ms/sample - loss: 2.4133 - acc: 0.3517 - val_loss: 2.4173 - val_acc: 0.3620\n",
      "Epoch 6/20\n",
      "8982/8982 [==============================] - 112s 12ms/sample - loss: 2.4044 - acc: 0.3517 - val_loss: 2.4094 - val_acc: 0.3620\n",
      "Epoch 7/20\n",
      "8982/8982 [==============================] - 52s 6ms/sample - loss: 2.3996 - acc: 0.3517 - val_loss: 2.4066 - val_acc: 0.3620\n",
      "Epoch 8/20\n",
      "8982/8982 [==============================] - 46s 5ms/sample - loss: 2.3970 - acc: 0.3517 - val_loss: 2.4051 - val_acc: 0.3620\n",
      "Epoch 9/20\n",
      "8982/8982 [==============================] - 45s 5ms/sample - loss: 2.3948 - acc: 0.3517 - val_loss: 2.4050 - val_acc: 0.3620\n",
      "Epoch 10/20\n",
      "8982/8982 [==============================] - 41s 5ms/sample - loss: 2.3941 - acc: 0.3517 - val_loss: 2.4052 - val_acc: 0.3620\n",
      "Epoch 11/20\n",
      "8982/8982 [==============================] - 45s 5ms/sample - loss: 2.3927 - acc: 0.3517 - val_loss: 2.4032 - val_acc: 0.3620\n",
      "Epoch 12/20\n",
      "8982/8982 [==============================] - 44s 5ms/sample - loss: 2.3912 - acc: 0.3517 - val_loss: 2.4007 - val_acc: 0.3620\n",
      "Epoch 13/20\n",
      "8982/8982 [==============================] - 42s 5ms/sample - loss: 2.3897 - acc: 0.3517 - val_loss: 2.4036 - val_acc: 0.3620\n",
      "Epoch 14/20\n",
      "8982/8982 [==============================] - 47s 5ms/sample - loss: 2.3889 - acc: 0.3517 - val_loss: 2.4027 - val_acc: 0.3620\n",
      "Epoch 15/20\n",
      "8982/8982 [==============================] - 45s 5ms/sample - loss: 2.3879 - acc: 0.3517 - val_loss: 2.4015 - val_acc: 0.3620\n",
      "Epoch 16/20\n",
      "8982/8982 [==============================] - 47s 5ms/sample - loss: 2.3864 - acc: 0.3517 - val_loss: 2.3957 - val_acc: 0.3620\n",
      "Epoch 17/20\n",
      "8982/8982 [==============================] - 44s 5ms/sample - loss: 2.3850 - acc: 0.3517 - val_loss: 2.3948 - val_acc: 0.3620\n",
      "Epoch 18/20\n",
      "8982/8982 [==============================] - 46s 5ms/sample - loss: 2.3828 - acc: 0.3517 - val_loss: 2.3928 - val_acc: 0.3620\n",
      "Epoch 19/20\n",
      "8982/8982 [==============================] - 46s 5ms/sample - loss: 2.3809 - acc: 0.3517 - val_loss: 2.3901 - val_acc: 0.3620\n",
      "Epoch 20/20\n",
      "8982/8982 [==============================] - 45s 5ms/sample - loss: 2.3784 - acc: 0.3517 - val_loss: 2.3887 - val_acc: 0.3620\n"
     ]
    }
   ],
   "source": [
    "his1 = model1.fit(x_train,y_train, epochs = 20 , batch_size = 512 ,\n",
    "                  validation_data = (x_test , y_test))"
   ]
  },
  {
   "cell_type": "code",
   "execution_count": 40,
   "metadata": {},
   "outputs": [
    {
     "data": {
      "text/plain": [
       "<matplotlib.legend.Legend at 0x15a365ef438>"
      ]
     },
     "execution_count": 40,
     "metadata": {},
     "output_type": "execute_result"
    },
    {
     "data": {
      "image/png": "[encoded data removed]",
      "text/plain": [
       "<Figure size 1008x432 with 2 Axes>"
      ]
     },
     "metadata": {},
     "output_type": "display_data"
    }
   ],
   "source": [
    "fig , ax = plt.subplots(1,2,figsize=(14,6))\n",
    "ax[0].plot(his1.history['acc'],'r',label=\"Train data\")\n",
    "ax[0].plot(his1.history['val_acc'],'o',label=\"Validation data\")\n",
    "ax[0].set_title(\"Accurecy\")\n",
    "ax[0].legend()\n",
    "\n",
    "ax[1].plot(his1.history['loss'],'r',label=\"Train data\")\n",
    "ax[1].plot(his1.history['val_loss'],'o',label=\"Validation data\")\n",
    "ax[1].set_title(\"Accurecy\")\n",
    "ax[1].legend()"
   ]
  },
  {
   "cell_type": "code",
   "execution_count": 42,
   "metadata": {},
   "outputs": [
    {
     "name": "stdout",
     "output_type": "stream",
     "text": [
      "Shape of x_train :=  (8982, 120)\n",
      "Shape of y_train :=  (8982, 46)\n",
      "Shape of x_test  :=  (2246, 120)\n",
      "Shape of y_test  :=  (2246, 46)\n",
      "Model: \"sequential_3\"\n",
      "_________________________________________________________________\n",
      "Layer (type)                 Output Shape              Param #   \n",
      "=================================================================\n",
      "embedding_3 (Embedding)      (None, 120, 32)           320000    \n",
      "_________________________________________________________________\n",
      "global_average_pooling1d_3 ( (None, 32)                0         \n",
      "_________________________________________________________________\n",
      "dense_9 (Dense)              (None, 64)                2112      \n",
      "_________________________________________________________________\n",
      "dense_10 (Dense)             (None, 64)                4160      \n",
      "_________________________________________________________________\n",
      "dense_11 (Dense)             (None, 46)                2990      \n",
      "=================================================================\n",
      "Total params: 329,262\n",
      "Trainable params: 329,262\n",
      "Non-trainable params: 0\n",
      "_________________________________________________________________\n",
      "Train on 8982 samples, validate on 2246 samples\n",
      "Epoch 1/80\n",
      "8982/8982 [==============================] - 2s 233us/sample - loss: 3.6717 - acc: 0.2029 - val_loss: 3.3789 - val_acc: 0.2110\n",
      "Epoch 2/80\n",
      "8982/8982 [==============================] - 1s 76us/sample - loss: 2.9766 - acc: 0.2170 - val_loss: 2.5769 - val_acc: 0.2110\n",
      "Epoch 3/80\n",
      "8982/8982 [==============================] - 1s 78us/sample - loss: 2.3980 - acc: 0.2869 - val_loss: 2.2871 - val_acc: 0.3620\n",
      "Epoch 4/80\n",
      "8982/8982 [==============================] - 1s 76us/sample - loss: 2.2293 - acc: 0.3517 - val_loss: 2.1942 - val_acc: 0.3620\n",
      "Epoch 5/80\n",
      "8982/8982 [==============================] - 1s 79us/sample - loss: 2.1450 - acc: 0.3529 - val_loss: 2.1157 - val_acc: 0.3633\n",
      "Epoch 6/80\n",
      "8982/8982 [==============================] - 1s 77us/sample - loss: 2.0567 - acc: 0.3896 - val_loss: 2.0207 - val_acc: 0.4368\n",
      "Epoch 7/80\n",
      "8982/8982 [==============================] - 1s 81us/sample - loss: 1.9521 - acc: 0.4385 - val_loss: 1.9168 - val_acc: 0.4653\n",
      "Epoch 8/80\n",
      "8982/8982 [==============================] - 1s 84us/sample - loss: 1.8470 - acc: 0.4656 - val_loss: 1.8290 - val_acc: 0.4862\n",
      "Epoch 9/80\n",
      "8982/8982 [==============================] - 1s 80us/sample - loss: 1.7578 - acc: 0.4968 - val_loss: 1.7643 - val_acc: 0.5120\n",
      "Epoch 10/80\n",
      "8982/8982 [==============================] - 1s 93us/sample - loss: 1.6887 - acc: 0.5283 - val_loss: 1.7125 - val_acc: 0.5565\n",
      "Epoch 11/80\n",
      "8982/8982 [==============================] - 1s 86us/sample - loss: 1.6301 - acc: 0.5621 - val_loss: 1.6710 - val_acc: 0.5681\n",
      "Epoch 12/80\n",
      "8982/8982 [==============================] - 1s 90us/sample - loss: 1.5783 - acc: 0.5822 - val_loss: 1.6376 - val_acc: 0.5735\n",
      "Epoch 13/80\n",
      "8982/8982 [==============================] - 1s 91us/sample - loss: 1.5333 - acc: 0.5952 - val_loss: 1.6047 - val_acc: 0.5868\n",
      "Epoch 14/80\n",
      "8982/8982 [==============================] - 1s 104us/sample - loss: 1.4914 - acc: 0.6023 - val_loss: 1.5793 - val_acc: 0.5984\n",
      "Epoch 15/80\n",
      "8982/8982 [==============================] - 1s 89us/sample - loss: 1.4504 - acc: 0.6215 - val_loss: 1.5534 - val_acc: 0.6118\n",
      "Epoch 16/80\n",
      "8982/8982 [==============================] - 1s 90us/sample - loss: 1.4105 - acc: 0.6368 - val_loss: 1.5245 - val_acc: 0.6153\n",
      "Epoch 17/80\n",
      "8982/8982 [==============================] - 1s 75us/sample - loss: 1.3680 - acc: 0.6470 - val_loss: 1.5008 - val_acc: 0.6287\n",
      "Epoch 18/80\n",
      "8982/8982 [==============================] - 1s 78us/sample - loss: 1.3261 - acc: 0.6631 - val_loss: 1.4760 - val_acc: 0.6460\n",
      "Epoch 19/80\n",
      "8982/8982 [==============================] - 1s 83us/sample - loss: 1.2836 - acc: 0.6824 - val_loss: 1.4474 - val_acc: 0.6505\n",
      "Epoch 20/80\n",
      "8982/8982 [==============================] - 1s 78us/sample - loss: 1.2405 - acc: 0.6909 - val_loss: 1.4228 - val_acc: 0.6545\n",
      "Epoch 21/80\n",
      "8982/8982 [==============================] - 1s 86us/sample - loss: 1.1988 - acc: 0.7027 - val_loss: 1.4014 - val_acc: 0.6625\n",
      "Epoch 22/80\n",
      "8982/8982 [==============================] - 1s 75us/sample - loss: 1.1570 - acc: 0.7122 - val_loss: 1.3825 - val_acc: 0.6656\n",
      "Epoch 23/80\n",
      "8982/8982 [==============================] - 1s 88us/sample - loss: 1.1147 - acc: 0.7203 - val_loss: 1.3535 - val_acc: 0.6803\n",
      "Epoch 24/80\n",
      "8982/8982 [==============================] - 1s 88us/sample - loss: 1.0734 - acc: 0.7296 - val_loss: 1.3331 - val_acc: 0.6794\n",
      "Epoch 25/80\n",
      "8982/8982 [==============================] - 1s 82us/sample - loss: 1.0320 - acc: 0.7373 - val_loss: 1.3101 - val_acc: 0.6852\n",
      "Epoch 26/80\n",
      "8982/8982 [==============================] - 1s 97us/sample - loss: 0.9919 - acc: 0.7464 - val_loss: 1.2861 - val_acc: 0.6888 0s - loss: 0.9615 - acc\n",
      "Epoch 27/80\n",
      "8982/8982 [==============================] - 1s 80us/sample - loss: 0.9521 - acc: 0.7541 - val_loss: 1.2707 - val_acc: 0.6990\n",
      "Epoch 28/80\n",
      "8982/8982 [==============================] - 1s 81us/sample - loss: 0.9162 - acc: 0.7631 - val_loss: 1.2556 - val_acc: 0.7026\n",
      "Epoch 29/80\n",
      "8982/8982 [==============================] - 1s 89us/sample - loss: 0.8810 - acc: 0.7733 - val_loss: 1.2482 - val_acc: 0.7106\n",
      "Epoch 30/80\n",
      "8982/8982 [==============================] - 1s 75us/sample - loss: 0.8488 - acc: 0.7818 - val_loss: 1.2465 - val_acc: 0.7021\n",
      "Epoch 31/80\n",
      "8982/8982 [==============================] - 1s 85us/sample - loss: 0.8204 - acc: 0.7888 - val_loss: 1.2307 - val_acc: 0.7088\n",
      "Epoch 32/80\n",
      "8982/8982 [==============================] - 1s 84us/sample - loss: 0.7914 - acc: 0.7993 - val_loss: 1.2345 - val_acc: 0.7137\n",
      "Epoch 33/80\n",
      "8982/8982 [==============================] - 1s 91us/sample - loss: 0.7640 - acc: 0.8074 - val_loss: 1.2475 - val_acc: 0.7124\n",
      "Epoch 34/80\n",
      "8982/8982 [==============================] - 1s 83us/sample - loss: 0.7397 - acc: 0.8138 - val_loss: 1.2256 - val_acc: 0.7155\n",
      "Epoch 35/80\n",
      "8982/8982 [==============================] - 1s 87us/sample - loss: 0.7145 - acc: 0.8176 - val_loss: 1.2417 - val_acc: 0.7142\n",
      "Epoch 36/80\n",
      "8982/8982 [==============================] - 1s 82us/sample - loss: 0.6913 - acc: 0.8220 - val_loss: 1.2255 - val_acc: 0.7150\n",
      "Epoch 37/80\n",
      "8982/8982 [==============================] - 1s 102us/sample - loss: 0.6691 - acc: 0.8282 - val_loss: 1.2459 - val_acc: 0.7159\n",
      "Epoch 38/80\n",
      "8982/8982 [==============================] - 1s 91us/sample - loss: 0.6491 - acc: 0.8328 - val_loss: 1.2454 - val_acc: 0.7168\n",
      "Epoch 39/80\n",
      "8982/8982 [==============================] - 1s 93us/sample - loss: 0.6289 - acc: 0.8339 - val_loss: 1.2489 - val_acc: 0.7208\n",
      "Epoch 40/80\n",
      "8982/8982 [==============================] - 1s 102us/sample - loss: 0.6090 - acc: 0.8415 - val_loss: 1.2515 - val_acc: 0.7217\n",
      "Epoch 41/80\n",
      "8982/8982 [==============================] - 1s 97us/sample - loss: 0.5897 - acc: 0.8464 - val_loss: 1.2633 - val_acc: 0.7208\n",
      "Epoch 42/80\n",
      "8982/8982 [==============================] - 1s 90us/sample - loss: 0.5718 - acc: 0.8520 - val_loss: 1.2881 - val_acc: 0.7208\n",
      "Epoch 43/80\n",
      "8982/8982 [==============================] - 1s 106us/sample - loss: 0.5545 - acc: 0.8568 - val_loss: 1.2876 - val_acc: 0.7199\n",
      "Epoch 44/80\n",
      "8982/8982 [==============================] - 1s 108us/sample - loss: 0.5391 - acc: 0.8596 - val_loss: 1.3090 - val_acc: 0.7204\n",
      "Epoch 45/80\n",
      "8982/8982 [==============================] - 1s 82us/sample - loss: 0.5227 - acc: 0.8654 - val_loss: 1.3230 - val_acc: 0.7195\n",
      "Epoch 46/80\n",
      "8982/8982 [==============================] - 1s 68us/sample - loss: 0.5082 - acc: 0.8684 - val_loss: 1.3202 - val_acc: 0.7253\n",
      "Epoch 47/80\n",
      "8982/8982 [==============================] - 1s 96us/sample - loss: 0.4940 - acc: 0.8720 - val_loss: 1.3371 - val_acc: 0.7266\n",
      "Epoch 48/80\n",
      "8982/8982 [==============================] - 1s 82us/sample - loss: 0.4797 - acc: 0.8788 - val_loss: 1.3452 - val_acc: 0.7213\n",
      "Epoch 49/80\n",
      "8982/8982 [==============================] - 1s 85us/sample - loss: 0.4643 - acc: 0.8808 - val_loss: 1.3738 - val_acc: 0.7235\n",
      "Epoch 50/80\n",
      "8982/8982 [==============================] - 1s 99us/sample - loss: 0.4514 - acc: 0.8837 - val_loss: 1.4290 - val_acc: 0.7253\n",
      "Epoch 51/80\n"
     ]
    },
    {
     "name": "stdout",
     "output_type": "stream",
     "text": [
      "8982/8982 [==============================] - 1s 90us/sample - loss: 0.4403 - acc: 0.8882 - val_loss: 1.4245 - val_acc: 0.7244\n",
      "Epoch 52/80\n",
      "8982/8982 [==============================] - 1s 86us/sample - loss: 0.4256 - acc: 0.8938 - val_loss: 1.4319 - val_acc: 0.7266\n",
      "Epoch 53/80\n",
      "8982/8982 [==============================] - 1s 103us/sample - loss: 0.4146 - acc: 0.8937 - val_loss: 1.4653 - val_acc: 0.7275\n",
      "Epoch 54/80\n",
      "8982/8982 [==============================] - 1s 86us/sample - loss: 0.4025 - acc: 0.8988 - val_loss: 1.4459 - val_acc: 0.7271\n",
      "Epoch 55/80\n",
      "8982/8982 [==============================] - 1s 88us/sample - loss: 0.3906 - acc: 0.9055 - val_loss: 1.4898 - val_acc: 0.7257\n",
      "Epoch 56/80\n",
      "8982/8982 [==============================] - 1s 83us/sample - loss: 0.3785 - acc: 0.9063 - val_loss: 1.4980 - val_acc: 0.7262\n",
      "Epoch 57/80\n",
      "8982/8982 [==============================] - 1s 103us/sample - loss: 0.3693 - acc: 0.9081 - val_loss: 1.5110 - val_acc: 0.7293\n",
      "Epoch 58/80\n",
      "8982/8982 [==============================] - 1s 84us/sample - loss: 0.3586 - acc: 0.9110 - val_loss: 1.5474 - val_acc: 0.7275\n",
      "Epoch 59/80\n",
      "8982/8982 [==============================] - 1s 72us/sample - loss: 0.3474 - acc: 0.9139 - val_loss: 1.5603 - val_acc: 0.7297\n",
      "Epoch 60/80\n",
      "8982/8982 [==============================] - 1s 88us/sample - loss: 0.3385 - acc: 0.9182 - val_loss: 1.5870 - val_acc: 0.7306\n",
      "Epoch 61/80\n",
      "8982/8982 [==============================] - 1s 91us/sample - loss: 0.3287 - acc: 0.9167 - val_loss: 1.6118 - val_acc: 0.7289\n",
      "Epoch 62/80\n",
      "8982/8982 [==============================] - 1s 96us/sample - loss: 0.3191 - acc: 0.9217 - val_loss: 1.6094 - val_acc: 0.7293\n",
      "Epoch 63/80\n",
      "8982/8982 [==============================] - 1s 82us/sample - loss: 0.3104 - acc: 0.9252 - val_loss: 1.6366 - val_acc: 0.7271\n",
      "Epoch 64/80\n",
      "8982/8982 [==============================] - 1s 102us/sample - loss: 0.3022 - acc: 0.9264 - val_loss: 1.6349 - val_acc: 0.7289\n",
      "Epoch 65/80\n",
      "8982/8982 [==============================] - 1s 93us/sample - loss: 0.2932 - acc: 0.9273 - val_loss: 1.6660 - val_acc: 0.7324\n",
      "Epoch 66/80\n",
      "8982/8982 [==============================] - 1s 83us/sample - loss: 0.2845 - acc: 0.9314 - val_loss: 1.6709 - val_acc: 0.7324\n",
      "Epoch 67/80\n",
      "8982/8982 [==============================] - 1s 90us/sample - loss: 0.2770 - acc: 0.9314 - val_loss: 1.7015 - val_acc: 0.7320\n",
      "Epoch 68/80\n",
      "8982/8982 [==============================] - 1s 89us/sample - loss: 0.2682 - acc: 0.9320 - val_loss: 1.6973 - val_acc: 0.7346\n",
      "Epoch 69/80\n",
      "8982/8982 [==============================] - 1s 75us/sample - loss: 0.2615 - acc: 0.9335 - val_loss: 1.7353 - val_acc: 0.7329\n",
      "Epoch 70/80\n",
      "8982/8982 [==============================] - 1s 81us/sample - loss: 0.2545 - acc: 0.9378 - val_loss: 1.7559 - val_acc: 0.7333\n",
      "Epoch 71/80\n",
      "8982/8982 [==============================] - 1s 89us/sample - loss: 0.2452 - acc: 0.9364 - val_loss: 1.7741 - val_acc: 0.7329\n",
      "Epoch 72/80\n",
      "8982/8982 [==============================] - 1s 100us/sample - loss: 0.2404 - acc: 0.9382 - val_loss: 1.7909 - val_acc: 0.7297\n",
      "Epoch 73/80\n",
      "8982/8982 [==============================] - 1s 92us/sample - loss: 0.2327 - acc: 0.9412 - val_loss: 1.8426 - val_acc: 0.7293\n",
      "Epoch 74/80\n",
      "8982/8982 [==============================] - 1s 98us/sample - loss: 0.2287 - acc: 0.9409 - val_loss: 1.8609 - val_acc: 0.7297\n",
      "Epoch 75/80\n",
      "8982/8982 [==============================] - 1s 74us/sample - loss: 0.2213 - acc: 0.9421 - val_loss: 1.8625 - val_acc: 0.7315\n",
      "Epoch 76/80\n",
      "8982/8982 [==============================] - 1s 77us/sample - loss: 0.2160 - acc: 0.9428 - val_loss: 1.8967 - val_acc: 0.7329\n",
      "Epoch 77/80\n",
      "8982/8982 [==============================] - 1s 76us/sample - loss: 0.2126 - acc: 0.9431 - val_loss: 1.9401 - val_acc: 0.7244\n",
      "Epoch 78/80\n",
      "8982/8982 [==============================] - 1s 87us/sample - loss: 0.2053 - acc: 0.9454 - val_loss: 1.9304 - val_acc: 0.7262\n",
      "Epoch 79/80\n",
      "8982/8982 [==============================] - 1s 83us/sample - loss: 0.2003 - acc: 0.9447 - val_loss: 1.9540 - val_acc: 0.7315\n",
      "Epoch 80/80\n",
      "8982/8982 [==============================] - 1s 98us/sample - loss: 0.1966 - acc: 0.9472 - val_loss: 1.9858 - val_acc: 0.7275\n"
     ]
    },
    {
     "data": {
      "text/plain": [
       "<matplotlib.legend.Legend at 0x15a39549c88>"
      ]
     },
     "execution_count": 42,
     "metadata": {},
     "output_type": "execute_result"
    },
    {
     "data": {
      "image/png": "[encoded data removed]",
      "text/plain": [
       "<Figure size 1008x432 with 2 Axes>"
      ]
     },
     "metadata": {},
     "output_type": "display_data"
    }
   ],
   "source": [
    "maxlen     = 120\n",
    "padding    = \"post\"\n",
    "truncating = \"post\"\n",
    "emb_dim    = 32\n",
    "num_words  = 10000\n",
    "\n",
    "x_train = pad_sequences(train_data,maxlen=maxlen,padding=padding,truncating=truncating)\n",
    "x_test  = pad_sequences(test_data  ,maxlen=maxlen,padding=padding,truncating=truncating)\n",
    "\n",
    "print(\"Shape of x_train := \",x_train.shape)\n",
    "print(\"Shape of y_train := \",y_train.shape)\n",
    "print(\"Shape of x_test  := \",x_test.shape)\n",
    "print(\"Shape of y_test  := \",y_test.shape)\n",
    "\n",
    "model2 = tf.keras.models.Sequential([\n",
    "    tf.keras.layers.Embedding(num_words,emb_dim,input_length = maxlen),\n",
    "    tf.keras.layers.GlobalAveragePooling1D(),\n",
    "    tf.keras.layers.Dense(64,activation=\"relu\"),\n",
    "    tf.keras.layers.Dense(64,activation=\"relu\"),\n",
    "    tf.keras.layers.Dense(46,activation=\"softmax\"),\n",
    "])\n",
    "\n",
    "model2.summary()\n",
    "\n",
    "model2.compile(optimizer=tf.keras.optimizers.RMSprop(lr=0.001) ,\n",
    "               loss = tf.keras.losses.categorical_crossentropy ,\n",
    "               metrics = ['acc'])\n",
    "\n",
    "his2 = model2.fit(x_train,y_train, epochs = 80 , batch_size = 512 ,\n",
    "                  validation_data = (x_test , y_test))\n",
    "\n",
    "fig , ax = plt.subplots(1,2,figsize=(14,6))\n",
    "ax[0].plot(his2.history['acc'],'r',label=\"Train data\")\n",
    "ax[0].plot(his2.history['val_acc'],'o',label=\"Validation data\")\n",
    "ax[0].set_title(\"Accurecy\")\n",
    "ax[0].legend()\n",
    "\n",
    "ax[1].plot(his2.history['loss'],'r',label=\"Train data\")\n",
    "ax[1].plot(his2.history['val_loss'],'o',label=\"Validation data\")\n",
    "ax[1].set_title(\"Accurecy\")\n",
    "ax[1].legend()"
   ]
  },
  {
   "cell_type": "code",
   "execution_count": 43,
   "metadata": {},
   "outputs": [
    {
     "name": "stdout",
     "output_type": "stream",
     "text": [
      "Shape of x_train :=  (8982, 50)\n",
      "Shape of y_train :=  (8982, 46)\n",
      "Shape of x_test  :=  (2246, 50)\n",
      "Shape of y_test  :=  (2246, 46)\n",
      "Model: \"sequential_4\"\n",
      "_________________________________________________________________\n",
      "Layer (type)                 Output Shape              Param #   \n",
      "=================================================================\n",
      "embedding_4 (Embedding)      (None, 50, 64)            640000    \n",
      "_________________________________________________________________\n",
      "global_average_pooling1d_4 ( (None, 64)                0         \n",
      "_________________________________________________________________\n",
      "dense_12 (Dense)             (None, 64)                4160      \n",
      "_________________________________________________________________\n",
      "dense_13 (Dense)             (None, 64)                4160      \n",
      "_________________________________________________________________\n",
      "dense_14 (Dense)             (None, 46)                2990      \n",
      "=================================================================\n",
      "Total params: 651,310\n",
      "Trainable params: 651,310\n",
      "Non-trainable params: 0\n",
      "_________________________________________________________________\n",
      "Train on 8982 samples, validate on 2246 samples\n",
      "Epoch 1/80\n",
      "8982/8982 [==============================] - 2s 201us/sample - loss: 3.6206 - acc: 0.3352 - val_loss: 3.1772 - val_acc: 0.3620\n",
      "Epoch 2/80\n",
      "8982/8982 [==============================] - 1s 85us/sample - loss: 2.6558 - acc: 0.3517 - val_loss: 2.2580 - val_acc: 0.3620\n",
      "Epoch 3/80\n",
      "8982/8982 [==============================] - 1s 76us/sample - loss: 2.1375 - acc: 0.3799 - val_loss: 2.0395 - val_acc: 0.4884\n",
      "Epoch 4/80\n",
      "8982/8982 [==============================] - 1s 89us/sample - loss: 1.9519 - acc: 0.5049 - val_loss: 1.8968 - val_acc: 0.5107\n",
      "Epoch 5/80\n",
      "8982/8982 [==============================] - 1s 76us/sample - loss: 1.8203 - acc: 0.5096 - val_loss: 1.8002 - val_acc: 0.5169\n",
      "Epoch 6/80\n",
      "8982/8982 [==============================] - 1s 72us/sample - loss: 1.7178 - acc: 0.5184 - val_loss: 1.7215 - val_acc: 0.5232\n",
      "Epoch 7/80\n",
      "8982/8982 [==============================] - 1s 86us/sample - loss: 1.6259 - acc: 0.5361 - val_loss: 1.6536 - val_acc: 0.5592\n",
      "Epoch 8/80\n",
      "8982/8982 [==============================] - 1s 80us/sample - loss: 1.5436 - acc: 0.5807 - val_loss: 1.5953 - val_acc: 0.5864\n",
      "Epoch 9/80\n",
      "8982/8982 [==============================] - 1s 81us/sample - loss: 1.4694 - acc: 0.6072 - val_loss: 1.5477 - val_acc: 0.6215\n",
      "Epoch 10/80\n",
      "8982/8982 [==============================] - 1s 92us/sample - loss: 1.4016 - acc: 0.6540 - val_loss: 1.5015 - val_acc: 0.6469\n",
      "Epoch 11/80\n",
      "8982/8982 [==============================] - 1s 97us/sample - loss: 1.3384 - acc: 0.6786 - val_loss: 1.4645 - val_acc: 0.6545\n",
      "Epoch 12/80\n",
      "8982/8982 [==============================] - 1s 80us/sample - loss: 1.2788 - acc: 0.6927 - val_loss: 1.4269 - val_acc: 0.6638\n",
      "Epoch 13/80\n",
      "8982/8982 [==============================] - 1s 75us/sample - loss: 1.2213 - acc: 0.7021 - val_loss: 1.3938 - val_acc: 0.6692\n",
      "Epoch 14/80\n",
      "8982/8982 [==============================] - 1s 86us/sample - loss: 1.1635 - acc: 0.7126 - val_loss: 1.3634 - val_acc: 0.6754\n",
      "Epoch 15/80\n",
      "8982/8982 [==============================] - 1s 80us/sample - loss: 1.1072 - acc: 0.7244 - val_loss: 1.3340 - val_acc: 0.6794\n",
      "Epoch 16/80\n",
      "8982/8982 [==============================] - 1s 86us/sample - loss: 1.0506 - acc: 0.7377 - val_loss: 1.3011 - val_acc: 0.6919\n",
      "Epoch 17/80\n",
      "8982/8982 [==============================] - 1s 78us/sample - loss: 0.9977 - acc: 0.7492 - val_loss: 1.2789 - val_acc: 0.7012\n",
      "Epoch 18/80\n",
      "8982/8982 [==============================] - 1s 72us/sample - loss: 0.9458 - acc: 0.7646 - val_loss: 1.2440 - val_acc: 0.7084\n",
      "Epoch 19/80\n",
      "8982/8982 [==============================] - 1s 79us/sample - loss: 0.8993 - acc: 0.7760 - val_loss: 1.2250 - val_acc: 0.7173\n",
      "Epoch 20/80\n",
      "8982/8982 [==============================] - 1s 75us/sample - loss: 0.8542 - acc: 0.7857 - val_loss: 1.2090 - val_acc: 0.7217\n",
      "Epoch 21/80\n",
      "8982/8982 [==============================] - 1s 75us/sample - loss: 0.8120 - acc: 0.7946 - val_loss: 1.1974 - val_acc: 0.7280\n",
      "Epoch 22/80\n",
      "8982/8982 [==============================] - 1s 81us/sample - loss: 0.7727 - acc: 0.8047 - val_loss: 1.1890 - val_acc: 0.7329\n",
      "Epoch 23/80\n",
      "8982/8982 [==============================] - 1s 82us/sample - loss: 0.7341 - acc: 0.8154 - val_loss: 1.1813 - val_acc: 0.7386\n",
      "Epoch 24/80\n",
      "8982/8982 [==============================] - 1s 76us/sample - loss: 0.6958 - acc: 0.8215 - val_loss: 1.1697 - val_acc: 0.7404\n",
      "Epoch 25/80\n",
      "8982/8982 [==============================] - 1s 85us/sample - loss: 0.6600 - acc: 0.8304 - val_loss: 1.1725 - val_acc: 0.7476\n",
      "Epoch 26/80\n",
      "8982/8982 [==============================] - 1s 77us/sample - loss: 0.6254 - acc: 0.8373 - val_loss: 1.1769 - val_acc: 0.7440\n",
      "Epoch 27/80\n",
      "8982/8982 [==============================] - 1s 77us/sample - loss: 0.5923 - acc: 0.8474 - val_loss: 1.1781 - val_acc: 0.7507\n",
      "Epoch 28/80\n",
      "8982/8982 [==============================] - 1s 74us/sample - loss: 0.5615 - acc: 0.8543 - val_loss: 1.1791 - val_acc: 0.7480\n",
      "Epoch 29/80\n",
      "8982/8982 [==============================] - 1s 78us/sample - loss: 0.5314 - acc: 0.8618 - val_loss: 1.1882 - val_acc: 0.7507\n",
      "Epoch 30/80\n",
      "8982/8982 [==============================] - 1s 75us/sample - loss: 0.5018 - acc: 0.8694 - val_loss: 1.2079 - val_acc: 0.7511\n",
      "Epoch 31/80\n",
      "8982/8982 [==============================] - 1s 82us/sample - loss: 0.4772 - acc: 0.8731 - val_loss: 1.2222 - val_acc: 0.7511\n",
      "Epoch 32/80\n",
      "8982/8982 [==============================] - 1s 84us/sample - loss: 0.4502 - acc: 0.8825 - val_loss: 1.2328 - val_acc: 0.7533\n",
      "Epoch 33/80\n",
      "8982/8982 [==============================] - 1s 88us/sample - loss: 0.4253 - acc: 0.8907 - val_loss: 1.2361 - val_acc: 0.7476\n",
      "Epoch 34/80\n",
      "8982/8982 [==============================] - 1s 91us/sample - loss: 0.4018 - acc: 0.8967 - val_loss: 1.2786 - val_acc: 0.7493\n",
      "Epoch 35/80\n",
      "8982/8982 [==============================] - 1s 81us/sample - loss: 0.3806 - acc: 0.9025 - val_loss: 1.2643 - val_acc: 0.7520\n",
      "Epoch 36/80\n",
      "8982/8982 [==============================] - 1s 74us/sample - loss: 0.3579 - acc: 0.9074 - val_loss: 1.2982 - val_acc: 0.7524\n",
      "Epoch 37/80\n",
      "8982/8982 [==============================] - 1s 82us/sample - loss: 0.3377 - acc: 0.9157 - val_loss: 1.3561 - val_acc: 0.7502\n",
      "Epoch 38/80\n",
      "8982/8982 [==============================] - 1s 105us/sample - loss: 0.3220 - acc: 0.9208 - val_loss: 1.3438 - val_acc: 0.7533\n",
      "Epoch 39/80\n",
      "8982/8982 [==============================] - 1s 92us/sample - loss: 0.3028 - acc: 0.9280 - val_loss: 1.3598 - val_acc: 0.7533\n",
      "Epoch 40/80\n",
      "8982/8982 [==============================] - 1s 87us/sample - loss: 0.2873 - acc: 0.9315 - val_loss: 1.4140 - val_acc: 0.7529\n",
      "Epoch 41/80\n",
      "8982/8982 [==============================] - 1s 90us/sample - loss: 0.2717 - acc: 0.9345 - val_loss: 1.4534 - val_acc: 0.7542\n",
      "Epoch 42/80\n",
      "8982/8982 [==============================] - 1s 87us/sample - loss: 0.2588 - acc: 0.9381 - val_loss: 1.4704 - val_acc: 0.7538\n",
      "Epoch 43/80\n",
      "8982/8982 [==============================] - 1s 83us/sample - loss: 0.2448 - acc: 0.9407 - val_loss: 1.4766 - val_acc: 0.7507\n",
      "Epoch 44/80\n",
      "8982/8982 [==============================] - 1s 96us/sample - loss: 0.2357 - acc: 0.9405 - val_loss: 1.4964 - val_acc: 0.7538\n",
      "Epoch 45/80\n",
      "8982/8982 [==============================] - 1s 76us/sample - loss: 0.2245 - acc: 0.9456 - val_loss: 1.5552 - val_acc: 0.7484\n",
      "Epoch 46/80\n",
      "8982/8982 [==============================] - 1s 74us/sample - loss: 0.2134 - acc: 0.9447 - val_loss: 1.5849 - val_acc: 0.7511\n",
      "Epoch 47/80\n",
      "8982/8982 [==============================] - 1s 77us/sample - loss: 0.2053 - acc: 0.9470 - val_loss: 1.5902 - val_acc: 0.7529\n",
      "Epoch 48/80\n",
      "8982/8982 [==============================] - 1s 90us/sample - loss: 0.1987 - acc: 0.9490 - val_loss: 1.5893 - val_acc: 0.7520\n",
      "Epoch 49/80\n",
      "8982/8982 [==============================] - 1s 80us/sample - loss: 0.1909 - acc: 0.9486 - val_loss: 1.6465 - val_acc: 0.7516\n",
      "Epoch 50/80\n",
      "8982/8982 [==============================] - 1s 74us/sample - loss: 0.1843 - acc: 0.9499 - val_loss: 1.6629 - val_acc: 0.7507\n",
      "Epoch 51/80\n",
      "8982/8982 [==============================] - 1s 84us/sample - loss: 0.1785 - acc: 0.9517 - val_loss: 1.7047 - val_acc: 0.7484\n"
     ]
    },
    {
     "name": "stdout",
     "output_type": "stream",
     "text": [
      "Epoch 52/80\n",
      "8982/8982 [==============================] - 1s 70us/sample - loss: 0.1734 - acc: 0.9510 - val_loss: 1.8026 - val_acc: 0.7453\n",
      "Epoch 53/80\n",
      "8982/8982 [==============================] - 1s 72us/sample - loss: 0.1673 - acc: 0.9520 - val_loss: 1.7463 - val_acc: 0.7480\n",
      "Epoch 54/80\n",
      "8982/8982 [==============================] - 1s 69us/sample - loss: 0.1626 - acc: 0.9510 - val_loss: 1.7993 - val_acc: 0.7489\n",
      "Epoch 55/80\n",
      "8982/8982 [==============================] - 1s 69us/sample - loss: 0.1577 - acc: 0.9522 - val_loss: 1.7504 - val_acc: 0.7480\n",
      "Epoch 56/80\n",
      "8982/8982 [==============================] - 1s 78us/sample - loss: 0.1550 - acc: 0.9519 - val_loss: 1.7975 - val_acc: 0.7502\n",
      "Epoch 57/80\n",
      "8982/8982 [==============================] - 1s 76us/sample - loss: 0.1510 - acc: 0.9520 - val_loss: 1.8572 - val_acc: 0.7449\n",
      "Epoch 58/80\n",
      "8982/8982 [==============================] - 1s 81us/sample - loss: 0.1467 - acc: 0.9530 - val_loss: 1.8548 - val_acc: 0.7427\n",
      "Epoch 59/80\n",
      "8982/8982 [==============================] - 1s 78us/sample - loss: 0.1427 - acc: 0.9552 - val_loss: 1.8821 - val_acc: 0.7422\n",
      "Epoch 60/80\n",
      "8982/8982 [==============================] - 1s 74us/sample - loss: 0.1407 - acc: 0.9535 - val_loss: 1.9224 - val_acc: 0.7404\n",
      "Epoch 61/80\n",
      "8982/8982 [==============================] - 1s 69us/sample - loss: 0.1386 - acc: 0.9534 - val_loss: 1.9669 - val_acc: 0.7418\n",
      "Epoch 62/80\n",
      "8982/8982 [==============================] - 1s 76us/sample - loss: 0.1353 - acc: 0.9541 - val_loss: 1.9648 - val_acc: 0.7435\n",
      "Epoch 63/80\n",
      "8982/8982 [==============================] - 1s 90us/sample - loss: 0.1327 - acc: 0.9536 - val_loss: 1.9860 - val_acc: 0.7462\n",
      "Epoch 64/80\n",
      "8982/8982 [==============================] - 1s 75us/sample - loss: 0.1308 - acc: 0.9532 - val_loss: 1.9900 - val_acc: 0.7458\n",
      "Epoch 65/80\n",
      "8982/8982 [==============================] - 1s 72us/sample - loss: 0.1281 - acc: 0.9523 - val_loss: 2.0258 - val_acc: 0.7369\n",
      "Epoch 66/80\n",
      "8982/8982 [==============================] - 1s 68us/sample - loss: 0.1264 - acc: 0.9525 - val_loss: 2.0544 - val_acc: 0.7422\n",
      "Epoch 67/80\n",
      "8982/8982 [==============================] - 1s 72us/sample - loss: 0.1258 - acc: 0.9535 - val_loss: 2.0533 - val_acc: 0.7404\n",
      "Epoch 68/80\n",
      "8982/8982 [==============================] - 1s 81us/sample - loss: 0.1220 - acc: 0.9547 - val_loss: 2.0398 - val_acc: 0.7395\n",
      "Epoch 69/80\n",
      "8982/8982 [==============================] - 1s 71us/sample - loss: 0.1199 - acc: 0.9557 - val_loss: 2.0716 - val_acc: 0.7413\n",
      "Epoch 70/80\n",
      "8982/8982 [==============================] - 1s 70us/sample - loss: 0.1200 - acc: 0.9545 - val_loss: 2.0655 - val_acc: 0.7391\n",
      "Epoch 71/80\n",
      "8982/8982 [==============================] - 1s 71us/sample - loss: 0.1174 - acc: 0.9549 - val_loss: 2.1716 - val_acc: 0.7386\n",
      "Epoch 72/80\n",
      "8982/8982 [==============================] - 1s 88us/sample - loss: 0.1174 - acc: 0.9530 - val_loss: 2.1445 - val_acc: 0.7369\n",
      "Epoch 73/80\n",
      "8982/8982 [==============================] - 1s 83us/sample - loss: 0.1156 - acc: 0.9548 - val_loss: 2.1729 - val_acc: 0.7382\n",
      "Epoch 74/80\n",
      "8982/8982 [==============================] - 1s 88us/sample - loss: 0.1164 - acc: 0.9537 - val_loss: 2.1490 - val_acc: 0.7355\n",
      "Epoch 75/80\n",
      "8982/8982 [==============================] - 1s 90us/sample - loss: 0.1132 - acc: 0.9537 - val_loss: 2.1884 - val_acc: 0.7373\n",
      "Epoch 76/80\n",
      "8982/8982 [==============================] - 1s 82us/sample - loss: 0.1122 - acc: 0.9549 - val_loss: 2.1584 - val_acc: 0.7351\n",
      "Epoch 77/80\n",
      "8982/8982 [==============================] - 1s 90us/sample - loss: 0.1100 - acc: 0.9557 - val_loss: 2.2816 - val_acc: 0.7320\n",
      "Epoch 78/80\n",
      "8982/8982 [==============================] - 1s 77us/sample - loss: 0.1108 - acc: 0.9548 - val_loss: 2.2556 - val_acc: 0.7400\n",
      "Epoch 79/80\n",
      "8982/8982 [==============================] - 1s 74us/sample - loss: 0.1100 - acc: 0.9539 - val_loss: 2.2628 - val_acc: 0.7342\n",
      "Epoch 80/80\n",
      "8982/8982 [==============================] - 1s 81us/sample - loss: 0.1080 - acc: 0.9555 - val_loss: 2.2658 - val_acc: 0.7373\n"
     ]
    }
   ],
   "source": [
    "maxlen     = 50\n",
    "padding    = \"post\"\n",
    "truncating = \"post\"\n",
    "emb_dim    = 64\n",
    "num_words  = 10000\n",
    "\n",
    "x_train = pad_sequences(train_data,maxlen=maxlen,padding=padding,truncating=truncating)\n",
    "x_test  = pad_sequences(test_data  ,maxlen=maxlen,padding=padding,truncating=truncating)\n",
    "\n",
    "print(\"Shape of x_train := \",x_train.shape)\n",
    "print(\"Shape of y_train := \",y_train.shape)\n",
    "print(\"Shape of x_test  := \",x_test.shape)\n",
    "print(\"Shape of y_test  := \",y_test.shape)\n",
    "\n",
    "model3 = tf.keras.models.Sequential([\n",
    "    tf.keras.layers.Embedding(num_words,emb_dim,input_length = maxlen),\n",
    "    tf.keras.layers.GlobalAveragePooling1D(),\n",
    "    tf.keras.layers.Dense(64,activation=\"relu\"),\n",
    "    tf.keras.layers.Dense(64,activation=\"relu\"),\n",
    "    tf.keras.layers.Dense(46,activation=\"softmax\"),\n",
    "])\n",
    "\n",
    "model3.summary()\n",
    "\n",
    "model3.compile(optimizer=tf.keras.optimizers.RMSprop(lr=0.001) ,\n",
    "               loss = tf.keras.losses.categorical_crossentropy ,\n",
    "               metrics = ['acc'])\n",
    "\n",
    "his3 = model3.fit(x_train,y_train, epochs = 80 , batch_size = 512 ,\n",
    "                  validation_data = (x_test , y_test))"
   ]
  },
  {
   "cell_type": "code",
   "execution_count": 45,
   "metadata": {},
   "outputs": [
    {
     "data": {
      "text/plain": [
       "<matplotlib.legend.Legend at 0x15a3a29c710>"
      ]
     },
     "execution_count": 45,
     "metadata": {},
     "output_type": "execute_result"
    },
    {
     "data": {
      "image/png": "[encoded data removed]",
      "text/plain": [
       "<Figure size 1296x432 with 2 Axes>"
      ]
     },
     "metadata": {},
     "output_type": "display_data"
    }
   ],
   "source": [
    "fig , ax = plt.subplots(1,2,figsize=(18,6))\n",
    "ax[0].plot(his3.history['acc'],'r',label=\"Train data\")\n",
    "ax[0].plot(his3.history['val_acc'],'o',label=\"Validation data\")\n",
    "ax[0].set_title(\"Accurecy\")\n",
    "ax[0].legend()\n",
    "\n",
    "ax[1].plot(his3.history['loss'],'r',label=\"Train data\")\n",
    "ax[1].plot(his3.history['val_loss'],'o',label=\"Validation data\")\n",
    "ax[1].set_title(\"Crossentropy\")\n",
    "ax[1].legend()"
   ]
  },
  {
   "cell_type": "code",
   "execution_count": 55,
   "metadata": {},
   "outputs": [
    {
     "name": "stdout",
     "output_type": "stream",
     "text": [
      "Prediction :=  [3 4 3 4 4]\n",
      "True Value :=  [3, 4, 3, 4, 4]\n"
     ]
    }
   ],
   "source": [
    "print(\"Prediction := \" , model3.predict_classes(x_train[:5]) )\n",
    "print(\"True Value := \" , ([i.argmax() for i in y_train[:5]]) )"
   ]
  },
  {
   "cell_type": "code",
   "execution_count": 56,
   "metadata": {},
   "outputs": [
    {
     "name": "stdout",
     "output_type": "stream",
     "text": [
      "Prediction :=  [ 4 10  1  4 13]\n",
      "True Value :=  [3, 10, 1, 4, 4]\n"
     ]
    }
   ],
   "source": [
    "print(\"Prediction := \" , model3.predict_classes(x_test[:5]) )\n",
    "print(\"True Value := \" , ([i.argmax() for i in y_test[:5]]) )"
   ]
  },
  {
   "cell_type": "code",
   "execution_count": 58,
   "metadata": {},
   "outputs": [
    {
     "data": {
      "text/html": [
       "<div>\n",
       "<style scoped>\n",
       "    .dataframe tbody tr th:only-of-type {\n",
       "        vertical-align: middle;\n",
       "    }\n",
       "\n",
       "    .dataframe tbody tr th {\n",
       "        vertical-align: top;\n",
       "    }\n",
       "\n",
       "    .dataframe thead th {\n",
       "        text-align: right;\n",
       "    }\n",
       "</style>\n",
       "<table border=\"1\" class=\"dataframe\">\n",
       "  <thead>\n",
       "    <tr style=\"text-align: right;\">\n",
       "      <th></th>\n",
       "      <th>SN</th>\n",
       "      <th>SA</th>\n",
       "      <th>SADD</th>\n",
       "      <th>SR</th>\n",
       "      <th>SM</th>\n",
       "    </tr>\n",
       "  </thead>\n",
       "  <tbody>\n",
       "    <tr>\n",
       "      <th>A</th>\n",
       "      <td>Raj</td>\n",
       "      <td>kol</td>\n",
       "      <td>5</td>\n",
       "      <td>a</td>\n",
       "      <td>10</td>\n",
       "    </tr>\n",
       "    <tr>\n",
       "      <th>B</th>\n",
       "      <td>Kiran</td>\n",
       "      <td>kol</td>\n",
       "      <td>4</td>\n",
       "      <td>b</td>\n",
       "      <td>50</td>\n",
       "    </tr>\n",
       "    <tr>\n",
       "      <th>C</th>\n",
       "      <td>Jiva</td>\n",
       "      <td>Del</td>\n",
       "      <td>3</td>\n",
       "      <td>c</td>\n",
       "      <td>70</td>\n",
       "    </tr>\n",
       "    <tr>\n",
       "      <th>D</th>\n",
       "      <td>Jimmi</td>\n",
       "      <td>Mum</td>\n",
       "      <td>5</td>\n",
       "      <td>d</td>\n",
       "      <td>80</td>\n",
       "    </tr>\n",
       "    <tr>\n",
       "      <th>E</th>\n",
       "      <td>Kiran</td>\n",
       "      <td>Raj</td>\n",
       "      <td>2</td>\n",
       "      <td>e</td>\n",
       "      <td>40</td>\n",
       "    </tr>\n",
       "  </tbody>\n",
       "</table>\n",
       "</div>"
      ],
      "text/plain": [
       "      SN   SA  SADD SR  SM\n",
       "A    Raj  kol     5  a  10\n",
       "B  Kiran  kol     4  b  50\n",
       "C   Jiva  Del     3  c  70\n",
       "D  Jimmi  Mum     5  d  80\n",
       "E  Kiran  Raj     2  e  40"
      ]
     },
     "execution_count": 58,
     "metadata": {},
     "output_type": "execute_result"
    }
   ],
   "source": [
    "import pandas as pd\n",
    "Dict = {\n",
    "    'SN' : [\"Raj\",\"Kiran\",\"Jiva\",\"Jimmi\",\"Kiran\"],\n",
    "    \"SA\" : ['kol','kol','Del',\"Mum\",\"Raj\"],\n",
    "    \"SADD\" : [5,4,3,5,2],\n",
    "    \"SR\" :['a','b','c','d','e'],\n",
    "    \"SM\" : [10,50,70,80,40]\n",
    "}\n",
    "index = ['A','B','C','D','E']\n",
    "df = pd.DataFrame(Dict,index=index)\n",
    "df"
   ]
  },
  {
   "cell_type": "code",
   "execution_count": 64,
   "metadata": {},
   "outputs": [
    {
     "name": "stdout",
     "output_type": "stream",
     "text": [
      "   Sname SAdd  Sroll Sdept\n",
      "0    Raj  Kol      1    IT\n",
      "1   Anki  Raj      2    IT\n",
      "2  Rishi  Del      3   CSE\n",
      "3  Jimmi  Kol      4    ME\n",
      "====================\n",
      "   Sname  Sroll\n",
      "0    Raj      1\n",
      "1   Anki      2\n",
      "2  Rishi      3\n",
      "3  Jimmi      4\n",
      "====================\n",
      "   Sname SAdd  Sroll\n",
      "0    Raj  Kol      1\n",
      "1   Anki  Raj      2\n",
      "2  Rishi  Del      3\n",
      "3  Jimmi  Kol      4\n",
      "====================\n",
      "   Sname SAdd  Sroll Sdept  Sid\n",
      "0    Raj  Kol      1    IT  500\n",
      "1   Anki  Raj      2    IT  600\n",
      "2  Rishi  Del      3   CSE  700\n",
      "3  Jimmi  Kol      4    ME  800\n"
     ]
    }
   ],
   "source": [
    "Student = {\n",
    "    \"Sname\" : [\"Raj\", \"Anki\" , \"Rishi\" , \"Jimmi\"],\n",
    "    \"SAdd\" : ['Kol',\"Raj\",\"Del\",\"Kol\"],\n",
    "    \"Sroll\" : [1,2,3,4],\n",
    "    \"Sdept\" : [\"IT\" , \"IT\" , \"CSE\" , \"ME\"]\n",
    "}\n",
    "\n",
    "df = pd.DataFrame(Student)\n",
    "#Que1\n",
    "print(df)\n",
    "print(\"====================\")\n",
    "#Que2\n",
    "print(df[['Sname','Sroll']])\n",
    "df2 = df.drop(['Sdept'],axis=1)\n",
    "print(\"====================\")\n",
    "#Que3\n",
    "print(df2)\n",
    "df['Sid'] = [500,600,700,800]\n",
    "print(\"====================\")\n",
    "#Que4\n",
    "print(df)"
   ]
  },
  {
   "cell_type": "code",
   "execution_count": null,
   "metadata": {},
   "outputs": [],
   "source": []
  }
 ],
 "metadata": {
  "kernelspec": {
   "display_name": "Python 3",
   "language": "python",
   "name": "python3"
  },
  "language_info": {
   "codemirror_mode": {
    "name": "ipython",
    "version": 3
   },
   "file_extension": ".py",
   "mimetype": "text/x-python",
   "name": "python",
   "nbconvert_exporter": "python",
   "pygments_lexer": "ipython3",
   "version": "3.7.3"
  }
 },
 "nbformat": 4,
 "nbformat_minor": 2
}
