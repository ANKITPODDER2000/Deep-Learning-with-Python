{
  "nbformat": 4,
  "nbformat_minor": 0,
  "metadata": {
    "colab": {
      "name": "Untitled2.ipynb",
      "provenance": [],
      "private_outputs": true,
      "collapsed_sections": [],
      "authorship_tag": "ABX9TyNnqr5OUhJPZmo93vApppR+",
      "include_colab_link": true
    },
    "kernelspec": {
      "name": "python3",
      "display_name": "Python 3"
    },
    "accelerator": "GPU"
  },
  "cells": [
    {
      "cell_type": "markdown",
      "metadata": {
        "id": "view-in-github",
        "colab_type": "text"
      },
      "source": [
        "<a href=\"https://colab.research.google.com/github/ANKITPODDER2000/Deep-Learning-with-Python/blob/master/Untitled2.ipynb\" target=\"_parent\"><img src=\"https://colab.research.google.com/assets/colab-badge.svg\" alt=\"Open In Colab\"/></a>"
      ]
    },
    {
      "cell_type": "code",
      "metadata": {
        "id": "LLjkYLq3f2OA",
        "colab_type": "code",
        "colab": {}
      },
      "source": [
        "import tensorflow as tf\n",
        "from tensorflow.keras.datasets import imdb\n",
        "print(\"Version of tensorflow is : \", tf.__version__)"
      ],
      "execution_count": null,
      "outputs": []
    },
    {
      "cell_type": "code",
      "metadata": {
        "id": "m4E8YXFDf9I3",
        "colab_type": "code",
        "colab": {}
      },
      "source": [
        "from tensorflow.keras.preprocessing.sequence import pad_sequences"
      ],
      "execution_count": null,
      "outputs": []
    },
    {
      "cell_type": "code",
      "metadata": {
        "id": "g6TebI3VgIJJ",
        "colab_type": "code",
        "colab": {}
      },
      "source": [
        "(train_data , train_label) , (test_data , test_label) = imdb.load_data(num_words = 10000)"
      ],
      "execution_count": null,
      "outputs": []
    },
    {
      "cell_type": "code",
      "metadata": {
        "id": "u8ix9JrkgJvc",
        "colab_type": "code",
        "colab": {}
      },
      "source": [
        "print(\"Details of Training Data :\\n==============================\")\n",
        "print(\"Shape of train_data : \",train_data.shape)\n",
        "print(\"Shape of train_label : \",train_label.shape)\n",
        "print(\"Details of Testing Data :\\n==============================\")\n",
        "print(\"Shape of test_data : \",test_data.shape)\n",
        "print(\"Shape of test_label : \",test_label.shape)"
      ],
      "execution_count": null,
      "outputs": []
    },
    {
      "cell_type": "code",
      "metadata": {
        "id": "1S3kh7rNgcHH",
        "colab_type": "code",
        "colab": {}
      },
      "source": [
        "padding = \"post\"\n",
        "truncating = \"post\"\n",
        "embedding_dim = 32\n",
        "maxlen = 10000"
      ],
      "execution_count": null,
      "outputs": []
    },
    {
      "cell_type": "code",
      "metadata": {
        "id": "5uMfyqingeFH",
        "colab_type": "code",
        "colab": {}
      },
      "source": [
        "X = pad_sequences(train_data , maxlen = maxlen , padding = padding , truncating = truncating)\n",
        "X.shape"
      ],
      "execution_count": null,
      "outputs": []
    },
    {
      "cell_type": "code",
      "metadata": {
        "id": "PqmrM6GhgitD",
        "colab_type": "code",
        "colab": {}
      },
      "source": [
        "word_index = imdb.get_word_index()"
      ],
      "execution_count": null,
      "outputs": []
    },
    {
      "cell_type": "code",
      "metadata": {
        "id": "1rstpraqgqJw",
        "colab_type": "code",
        "colab": {}
      },
      "source": [
        "rev_word_index = dict()\n",
        "for k , v in word_index.items():\n",
        "    rev_word_index[v] = k"
      ],
      "execution_count": null,
      "outputs": []
    },
    {
      "cell_type": "code",
      "metadata": {
        "id": "6ma6txHegsYb",
        "colab_type": "code",
        "colab": {}
      },
      "source": [
        "def build_model(layer):\n",
        "    model = tf.keras.models.Sequential()\n",
        "    model.add(tf.keras.layers.Embedding(10000 , embedding_dim , input_length = maxlen))\n",
        "    model.add(tf.keras.layers.GlobalAveragePooling1D()),\n",
        "    for ly in layer:\n",
        "        model.add(tf.keras.layers.Dense(ly , activation = \"relu\"))\n",
        "    model.add(tf.keras.layers.Dense(1 , activation = \"sigmoid\"))\n",
        "    model.compile(optimizer = \"rmsprop\" , loss = tf.keras.losses.binary_crossentropy , metrics = ['acc'])\n",
        "    return model"
      ],
      "execution_count": null,
      "outputs": []
    },
    {
      "cell_type": "code",
      "metadata": {
        "id": "RAn2NmWhgunf",
        "colab_type": "code",
        "colab": {}
      },
      "source": [
        "X_train = X[:20000 , :]\n",
        "y_train = train_label[:20000]\n",
        "X_test  = X[20000: , :]\n",
        "y_test  = train_label[20000 : ]"
      ],
      "execution_count": null,
      "outputs": []
    },
    {
      "cell_type": "code",
      "metadata": {
        "id": "7JQQlR6ZgwOQ",
        "colab_type": "code",
        "colab": {}
      },
      "source": [
        "print(\"Details of Training Data :\\n==============================\")\n",
        "print(\"Shape of X_train : \",X_train.shape)\n",
        "print(\"Shape of y_train : \",y_train.shape)\n",
        "print(\"Details of Validation Data :\\n==============================\")\n",
        "print(\"Shape of X_test : \",X_test.shape)\n",
        "print(\"Shape of y_test : \",y_test.shape)"
      ],
      "execution_count": null,
      "outputs": []
    },
    {
      "cell_type": "code",
      "metadata": {
        "id": "RdxUSy3Xgx0B",
        "colab_type": "code",
        "colab": {}
      },
      "source": [
        "model_dict = {}\n",
        "model_dict[\"model_512_512\"] = {}\n",
        "model_dict[\"model_512_512\"]['layers'] = [512 , 512]\n",
        "model_dict[\"model_256_256\"] = {}\n",
        "model_dict[\"model_256_256\"]['layers'] = [256 , 256]\n",
        "model_dict[\"model_128_128\"] = {}\n",
        "model_dict[\"model_128_128\"]['layers'] = [128 , 128]\n",
        "model_dict[\"model_64_64\"] = {}\n",
        "model_dict[\"model_64_64\"]['layers'] = [64 , 64]\n",
        "model_dict[\"model_4_4\"] = {}\n",
        "model_dict[\"model_4_4\"]['layers'] = [4 , 4]"
      ],
      "execution_count": null,
      "outputs": []
    },
    {
      "cell_type": "code",
      "metadata": {
        "id": "nD1Fs3_ugz5T",
        "colab_type": "code",
        "colab": {}
      },
      "source": [
        "for key in model_dict:\n",
        "    model_dict[key]['model'] = build_model(model_dict[key]['layers'])"
      ],
      "execution_count": null,
      "outputs": []
    },
    {
      "cell_type": "code",
      "metadata": {
        "id": "77hb38l1g7BI",
        "colab_type": "code",
        "colab": {}
      },
      "source": [
        "for key in model_dict:\n",
        "    model_dict[key]['epochs']     = 20\n",
        "    model_dict[key]['batch_size'] = 512\n",
        "    model_dict[key]['history']    = None"
      ],
      "execution_count": null,
      "outputs": []
    },
    {
      "cell_type": "code",
      "metadata": {
        "id": "6DYYnASJg9z-",
        "colab_type": "code",
        "colab": {}
      },
      "source": [
        "for key in model_dict:\n",
        "    print(\"Start of model : \" + key)\n",
        "    model_dict[key]['history'] = model_dict[key]['model'].fit(X_train , y_train ,\n",
        "                                                              epochs = model_dict[key]['epochs'] ,\n",
        "                                                              batch_size = model_dict[key]['batch_size'] ,\n",
        "                                                              validation_data = (X_test , y_test)\n",
        "                                                             )\n",
        "    print(\"End of model : \" + key)"
      ],
      "execution_count": null,
      "outputs": []
    },
    {
      "cell_type": "code",
      "metadata": {
        "id": "qClHK5F2hCRq",
        "colab_type": "code",
        "colab": {}
      },
      "source": [
        "import matplotlib.pyplot as plt\n",
        "%matplotlib inline\n",
        "import seaborn as sns\n",
        "sns.set_style(\"darkgrid\")"
      ],
      "execution_count": null,
      "outputs": []
    },
    {
      "cell_type": "code",
      "metadata": {
        "id": "q_1MczG0nTE5",
        "colab_type": "code",
        "colab": {}
      },
      "source": [
        "def plot(history):\n",
        "  _ , ax = plt.subplots(1,2,figsize = (16,6))\n",
        "  ax[0].plot(history.history['acc'] , label=\"Training\")\n",
        "  ax[0].plot(history.history['val_acc'] , label=\"Validation\")\n",
        "  ax[0].set_title(\"Acc\")\n",
        "  ax[0].legend()\n",
        "\n",
        "  ax[1].plot(history.history['loss'] , label=\"Training\")\n",
        "  ax[1].plot(history.history['val_loss'] , label=\"Validation\")\n",
        "  ax[1].set_title(\"Loss\")\n",
        "  ax[1].legend()"
      ],
      "execution_count": null,
      "outputs": []
    },
    {
      "cell_type": "code",
      "metadata": {
        "id": "o0ux_umYoxzo",
        "colab_type": "code",
        "colab": {}
      },
      "source": [
        "plot(model_dict[\"model_512_512\"]['history'])"
      ],
      "execution_count": null,
      "outputs": []
    },
    {
      "cell_type": "code",
      "metadata": {
        "id": "QLq8aTQdo6WV",
        "colab_type": "code",
        "colab": {}
      },
      "source": [
        "for i in model_dict:\n",
        "  plot(model_dict[i]['history'])"
      ],
      "execution_count": null,
      "outputs": []
    },
    {
      "cell_type": "code",
      "metadata": {
        "id": "FskY-3uipI9S",
        "colab_type": "code",
        "colab": {}
      },
      "source": [
        "plt.figure(figsize=(20 , 10))\n",
        "for i in model_dict:\n",
        "  plt.plot(model_dict[i]['history'].history['acc'] , label = i)\n",
        "plt.legend()"
      ],
      "execution_count": null,
      "outputs": []
    },
    {
      "cell_type": "code",
      "metadata": {
        "id": "7GZAmDPLp4Bu",
        "colab_type": "code",
        "colab": {}
      },
      "source": [
        "plt.figure(figsize=(20 , 10))\n",
        "for i in model_dict:\n",
        "  plt.plot(model_dict[i]['history'].history['val_acc'] , label = i)\n",
        "plt.legend()"
      ],
      "execution_count": null,
      "outputs": []
    },
    {
      "cell_type": "code",
      "metadata": {
        "id": "9Nm_1I8CqYNu",
        "colab_type": "code",
        "colab": {}
      },
      "source": [
        "plt.figure(figsize=(20 , 10))\n",
        "for i in model_dict:\n",
        "  plt.plot(model_dict[i]['history'].history['loss'] , label = i)\n",
        "plt.legend()"
      ],
      "execution_count": null,
      "outputs": []
    },
    {
      "cell_type": "code",
      "metadata": {
        "id": "2rw2eppcqgSN",
        "colab_type": "code",
        "colab": {}
      },
      "source": [
        "plt.figure(figsize=(20 , 10))\n",
        "for i in model_dict:\n",
        "  plt.plot(model_dict[i]['history'].history['val_loss'] , label = i)\n",
        "plt.legend()"
      ],
      "execution_count": null,
      "outputs": []
    },
    {
      "cell_type": "code",
      "metadata": {
        "id": "u7x3ic8TqlZn",
        "colab_type": "code",
        "colab": {}
      },
      "source": [
        "padding = \"post\"\n",
        "truncating = \"post\"\n",
        "embedding_dim = 32\n",
        "maxlen = 300\n",
        "X = pad_sequences(train_data , maxlen = maxlen , padding = padding , truncating = truncating)\n",
        "X.shape"
      ],
      "execution_count": null,
      "outputs": []
    },
    {
      "cell_type": "code",
      "metadata": {
        "id": "HjJ-tZkjqxiE",
        "colab_type": "code",
        "colab": {}
      },
      "source": [
        "X_train = X[:20000 , :]\n",
        "y_train = train_label[:20000]\n",
        "X_test  = X[20000: , :]\n",
        "y_test  = train_label[20000 : ]\n",
        "print(\"Details of Training Data :\\n==============================\")\n",
        "print(\"Shape of X_train : \",X_train.shape)\n",
        "print(\"Shape of y_train : \",y_train.shape)\n",
        "print(\"Details of Validation Data :\\n==============================\")\n",
        "print(\"Shape of X_test : \",X_test.shape)\n",
        "print(\"Shape of y_test : \",y_test.shape)\n",
        "model_dict = {}\n",
        "model_dict[\"model_512_512\"] = {}\n",
        "model_dict[\"model_512_512\"]['layers'] = [512 , 512]\n",
        "model_dict[\"model_256_256\"] = {}\n",
        "model_dict[\"model_256_256\"]['layers'] = [256 , 256]\n",
        "model_dict[\"model_128_128\"] = {}\n",
        "model_dict[\"model_128_128\"]['layers'] = [128 , 128]\n",
        "model_dict[\"model_64_64\"] = {}\n",
        "model_dict[\"model_64_64\"]['layers'] = [64 , 64]\n",
        "model_dict[\"model_4_4\"] = {}\n",
        "model_dict[\"model_4_4\"]['layers'] = [4 , 4]\n",
        "for key in model_dict:\n",
        "    model_dict[key]['model'] = build_model(model_dict[key]['layers'])\n",
        "for key in model_dict:\n",
        "    model_dict[key]['epochs']     = 20\n",
        "    model_dict[key]['batch_size'] = 512\n",
        "    model_dict[key]['history']    = None"
      ],
      "execution_count": null,
      "outputs": []
    },
    {
      "cell_type": "code",
      "metadata": {
        "id": "WtuQg64BrC0I",
        "colab_type": "code",
        "colab": {}
      },
      "source": [
        "def build_model(layer):\n",
        "    model = tf.keras.models.Sequential()\n",
        "    model.add(tf.keras.layers.Embedding(10000 , embedding_dim , input_length = maxlen))\n",
        "    model.add(tf.keras.layers.GlobalAveragePooling1D()),\n",
        "    for ly in layer:\n",
        "        model.add(tf.keras.layers.Dense(ly , activation = \"relu\"))\n",
        "    model.add(tf.keras.layers.Dense(1 , activation = \"sigmoid\"))\n",
        "    model.compile(optimizer = \"rmsprop\" , loss = tf.keras.losses.binary_crossentropy , metrics = ['acc'])\n",
        "    return model"
      ],
      "execution_count": null,
      "outputs": []
    },
    {
      "cell_type": "code",
      "metadata": {
        "id": "JZu3ce1UrHR9",
        "colab_type": "code",
        "colab": {}
      },
      "source": [
        "for key in model_dict:\n",
        "    print(\"Start of model : \" + key)\n",
        "    model_dict[key]['history'] = model_dict[key]['model'].fit(X_train , y_train ,\n",
        "                                                              epochs = model_dict[key]['epochs'] ,\n",
        "                                                              batch_size = model_dict[key]['batch_size'] ,\n",
        "                                                              validation_data = (X_test , y_test),\n",
        "                                                              verbose = 0\n",
        "                                                             )\n",
        "    print(\"End of model : \" + key)"
      ],
      "execution_count": null,
      "outputs": []
    },
    {
      "cell_type": "code",
      "metadata": {
        "id": "xT0MasOorPhb",
        "colab_type": "code",
        "colab": {}
      },
      "source": [
        "plt.figure(figsize=(20 , 10))\n",
        "for i in model_dict:\n",
        "  plt.plot(model_dict[i]['history'].history['acc'] , label = i)\n",
        "plt.legend()"
      ],
      "execution_count": null,
      "outputs": []
    },
    {
      "cell_type": "code",
      "metadata": {
        "id": "clcPl_SItCGS",
        "colab_type": "code",
        "colab": {}
      },
      "source": [
        "plt.figure(figsize=(20 , 10))\n",
        "for i in model_dict:\n",
        "  plt.plot(model_dict[i]['history'].history['loss'] , label = i)\n",
        "plt.legend()"
      ],
      "execution_count": null,
      "outputs": []
    },
    {
      "cell_type": "code",
      "metadata": {
        "id": "RuKlz3AjuJFs",
        "colab_type": "code",
        "colab": {}
      },
      "source": [
        "plt.figure(figsize=(20 , 10))\n",
        "for i in model_dict:\n",
        "  plt.plot(model_dict[i]['history'].history['val_acc'] , label = i)\n",
        "plt.legend()"
      ],
      "execution_count": null,
      "outputs": []
    },
    {
      "cell_type": "code",
      "metadata": {
        "id": "WS_0ozDWuhWf",
        "colab_type": "code",
        "colab": {}
      },
      "source": [
        "plt.figure(figsize=(20 , 10))\n",
        "for i in model_dict:\n",
        "  plt.plot(model_dict[i]['history'].history['val_loss'] , label = i)\n",
        "plt.legend()"
      ],
      "execution_count": null,
      "outputs": []
    },
    {
      "cell_type": "code",
      "metadata": {
        "id": "ABh92Xm_usFf",
        "colab_type": "code",
        "colab": {}
      },
      "source": [
        "for i in model_dict:\n",
        "  plt.plot(model_dict[i]['history'].history['loss'] , label = i)\n",
        "  plt.plot(model_dict[i]['history'].history['val_loss'] , label = i)\n",
        "  plt.legend()\n",
        "  plt.show()\n"
      ],
      "execution_count": null,
      "outputs": []
    },
    {
      "cell_type": "code",
      "metadata": {
        "id": "cmbEehKYu7Z1",
        "colab_type": "code",
        "colab": {}
      },
      "source": [
        ""
      ],
      "execution_count": null,
      "outputs": []
    }
  ]
}