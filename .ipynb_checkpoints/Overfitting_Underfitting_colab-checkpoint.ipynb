{
 "cells": [
  {
   "cell_type": "markdown",
   "metadata": {
    "colab_type": "text",
    "id": "view-in-github"
   },
   "source": [
    "<a href=\"https://colab.research.google.com/github/ANKITPODDER2000/Deep-Learning-with-Python/blob/master/Untitled2.ipynb\" target=\"_parent\"><img src=\"https://colab.research.google.com/assets/colab-badge.svg\" alt=\"Open In Colab\"/></a>"
   ]
  },
  {
   "cell_type": "code",
   "execution_count": null,
   "metadata": {
    "colab": {},
    "colab_type": "code",
    "id": "LLjkYLq3f2OA"
   },
   "outputs": [],
   "source": [
    "import tensorflow as tf\n",
    "from tensorflow.keras.datasets import imdb\n",
    "print(\"Version of tensorflow is : \", tf.__version__)"
   ]
  },
  {
   "cell_type": "code",
   "execution_count": null,
   "metadata": {
    "colab": {},
    "colab_type": "code",
    "id": "m4E8YXFDf9I3"
   },
   "outputs": [],
   "source": [
    "from tensorflow.keras.preprocessing.sequence import pad_sequences"
   ]
  },
  {
   "cell_type": "code",
   "execution_count": null,
   "metadata": {
    "colab": {},
    "colab_type": "code",
    "id": "g6TebI3VgIJJ"
   },
   "outputs": [],
   "source": [
    "(train_data , train_label) , (test_data , test_label) = imdb.load_data(num_words = 10000)"
   ]
  },
  {
   "cell_type": "code",
   "execution_count": null,
   "metadata": {
    "colab": {},
    "colab_type": "code",
    "id": "u8ix9JrkgJvc"
   },
   "outputs": [],
   "source": [
    "print(\"Details of Training Data :\\n==============================\")\n",
    "print(\"Shape of train_data : \",train_data.shape)\n",
    "print(\"Shape of train_label : \",train_label.shape)\n",
    "print(\"Details of Testing Data :\\n==============================\")\n",
    "print(\"Shape of test_data : \",test_data.shape)\n",
    "print(\"Shape of test_label : \",test_label.shape)"
   ]
  },
  {
   "cell_type": "code",
   "execution_count": null,
   "metadata": {
    "colab": {},
    "colab_type": "code",
    "id": "1S3kh7rNgcHH"
   },
   "outputs": [],
   "source": [
    "padding = \"post\"\n",
    "truncating = \"post\"\n",
    "embedding_dim = 32\n",
    "maxlen = 10000"
   ]
  },
  {
   "cell_type": "code",
   "execution_count": null,
   "metadata": {
    "colab": {},
    "colab_type": "code",
    "id": "5uMfyqingeFH"
   },
   "outputs": [],
   "source": [
    "X = pad_sequences(train_data , maxlen = maxlen , padding = padding , truncating = truncating)\n",
    "X.shape"
   ]
  },
  {
   "cell_type": "code",
   "execution_count": null,
   "metadata": {
    "colab": {},
    "colab_type": "code",
    "id": "PqmrM6GhgitD"
   },
   "outputs": [],
   "source": [
    "word_index = imdb.get_word_index()"
   ]
  },
  {
   "cell_type": "code",
   "execution_count": null,
   "metadata": {
    "colab": {},
    "colab_type": "code",
    "id": "1rstpraqgqJw"
   },
   "outputs": [],
   "source": [
    "rev_word_index = dict()\n",
    "for k , v in word_index.items():\n",
    "    rev_word_index[v] = k"
   ]
  },
  {
   "cell_type": "code",
   "execution_count": null,
   "metadata": {
    "colab": {},
    "colab_type": "code",
    "id": "6ma6txHegsYb"
   },
   "outputs": [],
   "source": [
    "def build_model(layer):\n",
    "    model = tf.keras.models.Sequential()\n",
    "    model.add(tf.keras.layers.Embedding(10000 , embedding_dim , input_length = maxlen))\n",
    "    model.add(tf.keras.layers.GlobalAveragePooling1D()),\n",
    "    for ly in layer:\n",
    "        model.add(tf.keras.layers.Dense(ly , activation = \"relu\"))\n",
    "    model.add(tf.keras.layers.Dense(1 , activation = \"sigmoid\"))\n",
    "    model.compile(optimizer = \"rmsprop\" , loss = tf.keras.losses.binary_crossentropy , metrics = ['acc'])\n",
    "    return model"
   ]
  },
  {
   "cell_type": "code",
   "execution_count": null,
   "metadata": {
    "colab": {},
    "colab_type": "code",
    "id": "RAn2NmWhgunf"
   },
   "outputs": [],
   "source": [
    "X_train = X[:20000 , :]\n",
    "y_train = train_label[:20000]\n",
    "X_test  = X[20000: , :]\n",
    "y_test  = train_label[20000 : ]"
   ]
  },
  {
   "cell_type": "code",
   "execution_count": null,
   "metadata": {
    "colab": {},
    "colab_type": "code",
    "id": "7JQQlR6ZgwOQ"
   },
   "outputs": [],
   "source": [
    "print(\"Details of Training Data :\\n==============================\")\n",
    "print(\"Shape of X_train : \",X_train.shape)\n",
    "print(\"Shape of y_train : \",y_train.shape)\n",
    "print(\"Details of Validation Data :\\n==============================\")\n",
    "print(\"Shape of X_test : \",X_test.shape)\n",
    "print(\"Shape of y_test : \",y_test.shape)"
   ]
  },
  {
   "cell_type": "code",
   "execution_count": null,
   "metadata": {
    "colab": {},
    "colab_type": "code",
    "id": "RdxUSy3Xgx0B"
   },
   "outputs": [],
   "source": [
    "model_dict = {}\n",
    "model_dict[\"model_512_512\"] = {}\n",
    "model_dict[\"model_512_512\"]['layers'] = [512 , 512]\n",
    "model_dict[\"model_256_256\"] = {}\n",
    "model_dict[\"model_256_256\"]['layers'] = [256 , 256]\n",
    "model_dict[\"model_128_128\"] = {}\n",
    "model_dict[\"model_128_128\"]['layers'] = [128 , 128]\n",
    "model_dict[\"model_64_64\"] = {}\n",
    "model_dict[\"model_64_64\"]['layers'] = [64 , 64]\n",
    "model_dict[\"model_4_4\"] = {}\n",
    "model_dict[\"model_4_4\"]['layers'] = [4 , 4]"
   ]
  },
  {
   "cell_type": "code",
   "execution_count": null,
   "metadata": {
    "colab": {},
    "colab_type": "code",
    "id": "nD1Fs3_ugz5T"
   },
   "outputs": [],
   "source": [
    "for key in model_dict:\n",
    "    model_dict[key]['model'] = build_model(model_dict[key]['layers'])"
   ]
  },
  {
   "cell_type": "code",
   "execution_count": null,
   "metadata": {
    "colab": {},
    "colab_type": "code",
    "id": "77hb38l1g7BI"
   },
   "outputs": [],
   "source": [
    "for key in model_dict:\n",
    "    model_dict[key]['epochs']     = 20\n",
    "    model_dict[key]['batch_size'] = 512\n",
    "    model_dict[key]['history']    = None"
   ]
  },
  {
   "cell_type": "code",
   "execution_count": null,
   "metadata": {
    "colab": {},
    "colab_type": "code",
    "id": "6DYYnASJg9z-"
   },
   "outputs": [],
   "source": [
    "for key in model_dict:\n",
    "    print(\"Start of model : \" + key)\n",
    "    model_dict[key]['history'] = model_dict[key]['model'].fit(X_train , y_train ,\n",
    "                                                              epochs = model_dict[key]['epochs'] ,\n",
    "                                                              batch_size = model_dict[key]['batch_size'] ,\n",
    "                                                              validation_data = (X_test , y_test)\n",
    "                                                             )\n",
    "    print(\"End of model : \" + key)"
   ]
  },
  {
   "cell_type": "code",
   "execution_count": null,
   "metadata": {
    "colab": {},
    "colab_type": "code",
    "id": "qClHK5F2hCRq"
   },
   "outputs": [],
   "source": [
    "import matplotlib.pyplot as plt\n",
    "%matplotlib inline\n",
    "import seaborn as sns\n",
    "sns.set_style(\"darkgrid\")"
   ]
  },
  {
   "cell_type": "code",
   "execution_count": null,
   "metadata": {
    "colab": {},
    "colab_type": "code",
    "id": "q_1MczG0nTE5"
   },
   "outputs": [],
   "source": [
    "def plot(history):\n",
    "  _ , ax = plt.subplots(1,2,figsize = (16,6))\n",
    "  ax[0].plot(history.history['acc'] , label=\"Training\")\n",
    "  ax[0].plot(history.history['val_acc'] , label=\"Validation\")\n",
    "  ax[0].set_title(\"Acc\")\n",
    "  ax[0].legend()\n",
    "\n",
    "  ax[1].plot(history.history['loss'] , label=\"Training\")\n",
    "  ax[1].plot(history.history['val_loss'] , label=\"Validation\")\n",
    "  ax[1].set_title(\"Loss\")\n",
    "  ax[1].legend()"
   ]
  },
  {
   "cell_type": "code",
   "execution_count": null,
   "metadata": {
    "colab": {},
    "colab_type": "code",
    "id": "o0ux_umYoxzo"
   },
   "outputs": [],
   "source": [
    "plot(model_dict[\"model_512_512\"]['history'])"
   ]
  },
  {
   "cell_type": "code",
   "execution_count": null,
   "metadata": {
    "colab": {},
    "colab_type": "code",
    "id": "QLq8aTQdo6WV"
   },
   "outputs": [],
   "source": [
    "for i in model_dict:\n",
    "  plot(model_dict[i]['history'])"
   ]
  },
  {
   "cell_type": "code",
   "execution_count": null,
   "metadata": {
    "colab": {},
    "colab_type": "code",
    "id": "FskY-3uipI9S"
   },
   "outputs": [],
   "source": [
    "plt.figure(figsize=(20 , 10))\n",
    "for i in model_dict:\n",
    "  plt.plot(model_dict[i]['history'].history['acc'] , label = i)\n",
    "plt.legend()"
   ]
  },
  {
   "cell_type": "code",
   "execution_count": null,
   "metadata": {
    "colab": {},
    "colab_type": "code",
    "id": "7GZAmDPLp4Bu"
   },
   "outputs": [],
   "source": [
    "plt.figure(figsize=(20 , 10))\n",
    "for i in model_dict:\n",
    "  plt.plot(model_dict[i]['history'].history['val_acc'] , label = i)\n",
    "plt.legend()"
   ]
  },
  {
   "cell_type": "code",
   "execution_count": null,
   "metadata": {
    "colab": {},
    "colab_type": "code",
    "id": "9Nm_1I8CqYNu"
   },
   "outputs": [],
   "source": [
    "plt.figure(figsize=(20 , 10))\n",
    "for i in model_dict:\n",
    "  plt.plot(model_dict[i]['history'].history['loss'] , label = i)\n",
    "plt.legend()"
   ]
  },
  {
   "cell_type": "code",
   "execution_count": null,
   "metadata": {
    "colab": {},
    "colab_type": "code",
    "id": "2rw2eppcqgSN"
   },
   "outputs": [],
   "source": [
    "plt.figure(figsize=(20 , 10))\n",
    "for i in model_dict:\n",
    "  plt.plot(model_dict[i]['history'].history['val_loss'] , label = i)\n",
    "plt.legend()"
   ]
  },
  {
   "cell_type": "code",
   "execution_count": null,
   "metadata": {
    "colab": {},
    "colab_type": "code",
    "id": "u7x3ic8TqlZn"
   },
   "outputs": [],
   "source": [
    "padding = \"post\"\n",
    "truncating = \"post\"\n",
    "embedding_dim = 32\n",
    "maxlen = 300\n",
    "X = pad_sequences(train_data , maxlen = maxlen , padding = padding , truncating = truncating)\n",
    "X.shape"
   ]
  },
  {
   "cell_type": "code",
   "execution_count": null,
   "metadata": {
    "colab": {},
    "colab_type": "code",
    "id": "HjJ-tZkjqxiE"
   },
   "outputs": [],
   "source": [
    "X_train = X[:20000 , :]\n",
    "y_train = train_label[:20000]\n",
    "X_test  = X[20000: , :]\n",
    "y_test  = train_label[20000 : ]\n",
    "print(\"Details of Training Data :\\n==============================\")\n",
    "print(\"Shape of X_train : \",X_train.shape)\n",
    "print(\"Shape of y_train : \",y_train.shape)\n",
    "print(\"Details of Validation Data :\\n==============================\")\n",
    "print(\"Shape of X_test : \",X_test.shape)\n",
    "print(\"Shape of y_test : \",y_test.shape)\n",
    "model_dict = {}\n",
    "model_dict[\"model_512_512\"] = {}\n",
    "model_dict[\"model_512_512\"]['layers'] = [512 , 512]\n",
    "model_dict[\"model_256_256\"] = {}\n",
    "model_dict[\"model_256_256\"]['layers'] = [256 , 256]\n",
    "model_dict[\"model_128_128\"] = {}\n",
    "model_dict[\"model_128_128\"]['layers'] = [128 , 128]\n",
    "model_dict[\"model_64_64\"] = {}\n",
    "model_dict[\"model_64_64\"]['layers'] = [64 , 64]\n",
    "model_dict[\"model_4_4\"] = {}\n",
    "model_dict[\"model_4_4\"]['layers'] = [4 , 4]\n",
    "for key in model_dict:\n",
    "    model_dict[key]['model'] = build_model(model_dict[key]['layers'])\n",
    "for key in model_dict:\n",
    "    model_dict[key]['epochs']     = 20\n",
    "    model_dict[key]['batch_size'] = 512\n",
    "    model_dict[key]['history']    = None"
   ]
  },
  {
   "cell_type": "code",
   "execution_count": null,
   "metadata": {
    "colab": {},
    "colab_type": "code",
    "id": "WtuQg64BrC0I"
   },
   "outputs": [],
   "source": [
    "def build_model(layer):\n",
    "    model = tf.keras.models.Sequential()\n",
    "    model.add(tf.keras.layers.Embedding(10000 , embedding_dim , input_length = maxlen))\n",
    "    model.add(tf.keras.layers.GlobalAveragePooling1D()),\n",
    "    for ly in layer:\n",
    "        model.add(tf.keras.layers.Dense(ly , activation = \"relu\"))\n",
    "    model.add(tf.keras.layers.Dense(1 , activation = \"sigmoid\"))\n",
    "    model.compile(optimizer = \"rmsprop\" , loss = tf.keras.losses.binary_crossentropy , metrics = ['acc'])\n",
    "    return model"
   ]
  },
  {
   "cell_type": "code",
   "execution_count": null,
   "metadata": {
    "colab": {},
    "colab_type": "code",
    "id": "JZu3ce1UrHR9"
   },
   "outputs": [],
   "source": [
    "for key in model_dict:\n",
    "    print(\"Start of model : \" + key)\n",
    "    model_dict[key]['history'] = model_dict[key]['model'].fit(X_train , y_train ,\n",
    "                                                              epochs = model_dict[key]['epochs'] ,\n",
    "                                                              batch_size = model_dict[key]['batch_size'] ,\n",
    "                                                              validation_data = (X_test , y_test),\n",
    "                                                              verbose = 0\n",
    "                                                             )\n",
    "    print(\"End of model : \" + key)"
   ]
  },
  {
   "cell_type": "code",
   "execution_count": null,
   "metadata": {
    "colab": {},
    "colab_type": "code",
    "id": "xT0MasOorPhb"
   },
   "outputs": [],
   "source": [
    "plt.figure(figsize=(20 , 10))\n",
    "for i in model_dict:\n",
    "  plt.plot(model_dict[i]['history'].history['acc'] , label = i)\n",
    "plt.legend()"
   ]
  },
  {
   "cell_type": "code",
   "execution_count": null,
   "metadata": {
    "colab": {},
    "colab_type": "code",
    "id": "clcPl_SItCGS"
   },
   "outputs": [],
   "source": [
    "plt.figure(figsize=(20 , 10))\n",
    "for i in model_dict:\n",
    "  plt.plot(model_dict[i]['history'].history['loss'] , label = i)\n",
    "plt.legend()"
   ]
  },
  {
   "cell_type": "code",
   "execution_count": null,
   "metadata": {
    "colab": {},
    "colab_type": "code",
    "id": "RuKlz3AjuJFs"
   },
   "outputs": [],
   "source": [
    "plt.figure(figsize=(20 , 10))\n",
    "for i in model_dict:\n",
    "  plt.plot(model_dict[i]['history'].history['val_acc'] , label = i)\n",
    "plt.legend()"
   ]
  },
  {
   "cell_type": "code",
   "execution_count": null,
   "metadata": {
    "colab": {},
    "colab_type": "code",
    "id": "WS_0ozDWuhWf"
   },
   "outputs": [],
   "source": [
    "plt.figure(figsize=(20 , 10))\n",
    "for i in model_dict:\n",
    "  plt.plot(model_dict[i]['history'].history['val_loss'] , label = i)\n",
    "plt.legend()"
   ]
  },
  {
   "cell_type": "code",
   "execution_count": null,
   "metadata": {
    "colab": {},
    "colab_type": "code",
    "id": "ABh92Xm_usFf"
   },
   "outputs": [],
   "source": [
    "for i in model_dict:\n",
    "  plt.plot(model_dict[i]['history'].history['loss'] , label = i)\n",
    "  plt.plot(model_dict[i]['history'].history['val_loss'] , label = i)\n",
    "  plt.legend()\n",
    "  plt.show()\n"
   ]
  },
  {
   "cell_type": "code",
   "execution_count": null,
   "metadata": {
    "colab": {},
    "colab_type": "code",
    "id": "cmbEehKYu7Z1"
   },
   "outputs": [],
   "source": []
  }
 ],
 "metadata": {
  "accelerator": "GPU",
  "colab": {
   "authorship_tag": "ABX9TyNnqr5OUhJPZmo93vApppR+",
   "collapsed_sections": [],
   "include_colab_link": true,
   "name": "Untitled2.ipynb",
   "private_outputs": true,
   "provenance": []
  },
  "kernelspec": {
   "display_name": "Python 3",
   "language": "python",
   "name": "python3"
  },
  "language_info": {
   "codemirror_mode": {
    "name": "ipython",
    "version": 3
   },
   "file_extension": ".py",
   "mimetype": "text/x-python",
   "name": "python",
   "nbconvert_exporter": "python",
   "pygments_lexer": "ipython3",
   "version": "3.7.3"
  }
 },
 "nbformat": 4,
 "nbformat_minor": 1
}
