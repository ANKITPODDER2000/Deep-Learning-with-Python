{
 "cells": [
  {
   "cell_type": "code",
   "execution_count": 1,
   "metadata": {},
   "outputs": [],
   "source": [
    "import numpy as np"
   ]
  },
  {
   "cell_type": "code",
   "execution_count": 2,
   "metadata": {},
   "outputs": [
    {
     "name": "stdout",
     "output_type": "stream",
     "text": [
      "Scalar is :=  10\n",
      "Dim of scalar :=  0\n",
      "Shape of scalar :=  int32\n"
     ]
    }
   ],
   "source": [
    "scalar = np.array(10)\n",
    "print(\"Scalar is := \",scalar)\n",
    "print(\"Dim of scalar := \",scalar.ndim)\n",
    "print(\"Shape of scalar := \",scalar.dtype)"
   ]
  },
  {
   "cell_type": "code",
   "execution_count": 4,
   "metadata": {},
   "outputs": [
    {
     "name": "stdout",
     "output_type": "stream",
     "text": [
      "vector is :=  [10. 20. 40. 50. 60.]\n",
      "Dim of vector :=  1\n",
      "Shape of vector :=  float64\n"
     ]
    }
   ],
   "source": [
    "vector = np.array([10,20,40,50,60],dtype=np.float64)\n",
    "print(\"vector is := \",vector)\n",
    "print(\"Dim of vector := \",vector.ndim)\n",
    "print(\"Shape of vector := \",vector.dtype)"
   ]
  },
  {
   "cell_type": "code",
   "execution_count": 7,
   "metadata": {},
   "outputs": [
    {
     "name": "stdout",
     "output_type": "stream",
     "text": [
      "matrix is :=  [[10. 20. 30.]\n",
      " [10. 20. 30.]]\n",
      "Dim of matrix :=  2\n",
      "Shape of matrix :=  float64\n"
     ]
    }
   ],
   "source": [
    "matrix = np.array([\n",
    "    [10,20,30.0],\n",
    "    [10,20,30.0]\n",
    "])\n",
    "print(\"matrix is := \",matrix)\n",
    "print(\"Dim of matrix := \",matrix.ndim)\n",
    "print(\"Shape of matrix := \",matrix.dtype)"
   ]
  },
  {
   "cell_type": "code",
   "execution_count": 9,
   "metadata": {},
   "outputs": [
    {
     "name": "stdout",
     "output_type": "stream",
     "text": [
      "multidimension is :=  [[[5. 5.]\n",
      "  [5. 5.]]\n",
      "\n",
      " [[5. 5.]\n",
      "  [5. 5.]]]\n",
      "Dim of multidimension :=  3\n",
      "Shape of multidimension :=  float64\n"
     ]
    }
   ],
   "source": [
    "from random import randint\n",
    "\n",
    "multidimension = np.ones((2,2,2)) * randint(1,10)\n",
    "print(\"multidimension is := \",multidimension)\n",
    "print(\"Dim of multidimension := \",multidimension.ndim)\n",
    "print(\"Shape of multidimension := \",multidimension.dtype)"
   ]
  },
  {
   "cell_type": "code",
   "execution_count": 10,
   "metadata": {},
   "outputs": [
    {
     "name": "stdout",
     "output_type": "stream",
     "text": [
      "Varsion of tensorflow is :=  2.1.0\n"
     ]
    }
   ],
   "source": [
    "import tensorflow as tf\n",
    "print(\"Varsion of tensorflow is := \",tf.__version__)"
   ]
  },
  {
   "cell_type": "code",
   "execution_count": 11,
   "metadata": {},
   "outputs": [],
   "source": [
    "(train_data , train_label),(test_data , test_label) = tf.keras.datasets.mnist.load_data()"
   ]
  },
  {
   "cell_type": "code",
   "execution_count": 13,
   "metadata": {},
   "outputs": [
    {
     "name": "stdout",
     "output_type": "stream",
     "text": [
      "Shape of train data :  (60000, 28, 28)\n",
      "Dim of train data :  3\n",
      "Rank of train data :  <built-in method view of numpy.ndarray object at 0x0000019FEFAEA3F0>\n"
     ]
    }
   ],
   "source": [
    "print(\"Shape of train data : \",train_data.shape)\n",
    "print(\"Dim of train data : \",train_data.ndim)\n",
    "print(\"Rank of train data : \",train_data.view)"
   ]
  },
  {
   "cell_type": "code",
   "execution_count": 14,
   "metadata": {},
   "outputs": [],
   "source": [
    "import matplotlib.pyplot as plt\n",
    "%matplotlib inline"
   ]
  },
  {
   "cell_type": "code",
   "execution_count": 16,
   "metadata": {},
   "outputs": [
    {
     "data": {
      "text/plain": [
       "<matplotlib.image.AxesImage at 0x19ff31cf0b8>"
      ]
     },
     "execution_count": 16,
     "metadata": {},
     "output_type": "execute_result"
    },
    {
     "data": {
      "image/png": "[encoded data removed]",
      "text/plain": [
       "<Figure size 432x288 with 1 Axes>"
      ]
     },
     "metadata": {
      "needs_background": "light"
     },
     "output_type": "display_data"
    }
   ],
   "source": [
    "plt.imshow(train_data[0],cmap=plt.cm.binary)"
   ]
  },
  {
   "cell_type": "code",
   "execution_count": 28,
   "metadata": {},
   "outputs": [
    {
     "data": {
      "text/plain": [
       "<matplotlib.image.AxesImage at 0x19ff780e7f0>"
      ]
     },
     "execution_count": 28,
     "metadata": {},
     "output_type": "execute_result"
    },
    {
     "data": {
      "image/png": "[encoded data removed]",
      "text/plain": [
       "<Figure size 432x288 with 1 Axes>"
      ]
     },
     "metadata": {
      "needs_background": "light"
     },
     "output_type": "display_data"
    }
   ],
   "source": [
    "plt.imshow(train_data[0,:14,:14],cmap=plt.cm.binary)"
   ]
  },
  {
   "cell_type": "code",
   "execution_count": 27,
   "metadata": {},
   "outputs": [
    {
     "data": {
      "text/plain": [
       "<matplotlib.image.AxesImage at 0x19ff77d0278>"
      ]
     },
     "execution_count": 27,
     "metadata": {},
     "output_type": "execute_result"
    },
    {
     "data": {
      "image/png": "[encoded data removed]",
      "text/plain": [
       "<Figure size 432x288 with 1 Axes>"
      ]
     },
     "metadata": {
      "needs_background": "light"
     },
     "output_type": "display_data"
    }
   ],
   "source": [
    "plt.imshow(train_data[0][2:24,2:24],cmap=plt.cm.binary)"
   ]
  },
  {
   "cell_type": "code",
   "execution_count": 26,
   "metadata": {},
   "outputs": [
    {
     "data": {
      "text/plain": [
       "<matplotlib.image.AxesImage at 0x19ff791aeb8>"
      ]
     },
     "execution_count": 26,
     "metadata": {},
     "output_type": "execute_result"
    },
    {
     "data": {
      "image/png": "[encoded data removed]",
      "text/plain": [
       "<Figure size 432x288 with 1 Axes>"
      ]
     },
     "metadata": {
      "needs_background": "light"
     },
     "output_type": "display_data"
    }
   ],
   "source": [
    "plt.imshow(train_data[0][7:21,7:21],cmap=plt.cm.binary)"
   ]
  },
  {
   "cell_type": "code",
   "execution_count": 33,
   "metadata": {},
   "outputs": [],
   "source": [
    "def relu(x):\n",
    "    x = np.where(x > 0 , x , 0)\n",
    "    return x"
   ]
  },
  {
   "cell_type": "code",
   "execution_count": 42,
   "metadata": {},
   "outputs": [
    {
     "name": "stdout",
     "output_type": "stream",
     "text": [
      "[[ 0.86620637]\n",
      " [-0.33372412]\n",
      " [-0.25536651]]\n",
      "\n",
      "[[0.86620637]\n",
      " [0.        ]\n",
      " [0.        ]]\n"
     ]
    }
   ],
   "source": [
    "x = np.dot(np.random.randn(3,3) , np.random.rand(3,1)) + np.zeros((3,1))\n",
    "print(x)\n",
    "print()\n",
    "print(relu(x))"
   ]
  },
  {
   "cell_type": "code",
   "execution_count": 43,
   "metadata": {},
   "outputs": [
    {
     "name": "stdout",
     "output_type": "stream",
     "text": [
      "shape of a :=  (10, 50)\n",
      "shape of a :=  (50, 10)\n"
     ]
    }
   ],
   "source": [
    "#reshaping\n",
    "a = np.zeros((10,50))\n",
    "print(\"shape of a := \",a.shape)\n",
    "a = a.T\n",
    "print(\"shape of a := \",a.shape)"
   ]
  },
  {
   "cell_type": "code",
   "execution_count": null,
   "metadata": {},
   "outputs": [],
   "source": []
  }
 ],
 "metadata": {
  "kernelspec": {
   "display_name": "Python 3",
   "language": "python",
   "name": "python3"
  },
  "language_info": {
   "codemirror_mode": {
    "name": "ipython",
    "version": 3
   },
   "file_extension": ".py",
   "mimetype": "text/x-python",
   "name": "python",
   "nbconvert_exporter": "python",
   "pygments_lexer": "ipython3",
   "version": "3.7.3"
  }
 },
 "nbformat": 4,
 "nbformat_minor": 2
}
